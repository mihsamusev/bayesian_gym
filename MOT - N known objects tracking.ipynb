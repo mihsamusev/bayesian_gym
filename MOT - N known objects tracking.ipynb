{
 "cells": [
  {
   "cell_type": "markdown",
   "metadata": {},
   "source": [
    "# Tracking n objects\n",
    "The SOT model developed previously was only capable of tracking a single object and estimate its state $x_k$ in clutter and missed detections. Generalization of SOT is the ability to track $n$ objects and estimate the state matrix $X_k = [x_k^1, x_k^2,...,x_k^n]$ where $n$ is assumed to be both known and constant. The clutter and the missed detections will be included as well. The crux of $n$ object tracking is handling many data association problem. \n",
    "\n",
    "New models required for the problem are:\n",
    "\n",
    "- model for the measurements from all $n$ objects and the clutter\n",
    "- model the motion of all $n$ objects\n",
    "- prior for the states of the $n$ objects\n",
    "- methods for handling the data association\n",
    "\n",
    "As well as new algorithms:\n",
    "\n",
    "- Global Nearest Neigbour (GNN) filter\n",
    "- Joint Probablistic Data Association (JPDA) filter\n",
    "- Multi Hypothesis Tracker (MHT)"
   ]
  },
  {
   "cell_type": "markdown",
   "metadata": {},
   "source": [
    "## Measurement modelling\n",
    "Similarly to the SOT the measurement matrix  $Z_k = \\Pi(O_k, C_k)$ is a random permutation between the clutter measurements $C_k$ and object detections $O_k$. Similarly to SOT the clutter is Poisson point process with intensity $\\lambda_c(c) = \\bar{\\lambda}_cf_c(c)$ depending on the clutter rate and the spatial PFD. The object detections, however, are now $O_k = [O_k^1,...O_k^i,...,O_k^n]$. Nevertheless, for $O_k^i$ same measurement model as in SOT applies, namely:\n",
    "$$\n",
    "\\begin{cases}\n",
    "O_k^i = [] & \\text{ with probability } 1 - P^D(x_k^i) \\\\\n",
    "O_k^i = o_k^i & \\text{ with probability } P^D(x_k^i) \\text{ and likelihood } g_k(o_k^i|x_k^i)\n",
    "\\end{cases}\n",
    "$$\n",
    "\n",
    "How does the n - object measurement likelihood $p(Z_k|X_k)$ looks in this case? Similarly to the SOT, the measurement likelihood can be build introducing the hypotheses variable and applying the law of total probability.\n",
    "\n",
    "$$\n",
    "p(Z|x) = p(Z,m|x) = \\sum_{\\theta=0}^{m}p(Z,m,\\theta|x) = \\sum_{\\theta=0}^{m}p(Z|m,\\theta,x)p(\\theta,m|x)\n",
    "$$\n",
    "\n",
    "Lets take it part by part again and derive the components\n",
    "\n",
    "- Association conditioned measurement model $p(Z|m,\\theta,x)$\n",
    "- Assication prior $p(\\theta,m|x)$"
   ]
  },
  {
   "cell_type": "markdown",
   "metadata": {},
   "source": [
    "### Data association variable $\\theta$\n",
    "For the measurements  $Z_k = [Z_k^1,...Z_k^i,...,Z_k^n]$ the $\\theta_k^i$ is the association for the object with state $x_k^i$ such that:\n",
    "\n",
    "$$ \\theta_k^i =\n",
    "\\begin{cases}\n",
    "j & \\text{ if object } i \\text{ is associated to measurement }j\\\\\n",
    "0 & \\text{ if object } i \\text{ is undetected}\n",
    "\\end{cases}\n",
    "$$\n",
    "\n",
    "The associations for all variables become $\\theta_k = [\\theta_k^1,...\\theta_k^i,...,\\theta_k^n]$\n",
    "\n",
    "Example:\n",
    "Two objects $X = [x^1, x^2]$\n",
    "\n",
    "Two measurements $Z = [z^1, z^2]$\n",
    "\n",
    "Example association $\\theta = [1, 0]$ meaning $x^1$ associated to $z^1$ and $x^2$ associated to misdetection.\n",
    "\n",
    "The extension of the set of associations $\\theta_k$ is the set of **valid** associations $\\Theta_k$. $\\theta_k \\in \\Theta_k$ only if two conditions are met:\n",
    "\n",
    "1. Each objcet must be either detected or miss-detected\n",
    "2. Any pair of detected objects cannot be associated to te same measurement (point object assumption)\n",
    "\n",
    "In the following we only consider valid associations, unless otherwise stated. Since we now have more than one object detection, the amount of object detections at time $k$ is denoted $m_k^o$ and the amount of clutter detections is then $m_k^c = m_k - m_k^o$"
   ]
  },
  {
   "cell_type": "markdown",
   "metadata": {},
   "source": [
    "### Association prior\n",
    "The data association prior $p(\\theta,m|x)$ for SOT and for n object tracking can be expressed as follows. It is helpful to draw the paralels between different terms in both formulas and see what has changed when our assumption about a single object got extended.\n",
    "$$\n",
    "p(\\theta,m|x) = P^D(x)Po(m - 1: \\bar{\\lambda}_c)\\frac{1}{m}\n",
    "\\\\\n",
    "p(\\theta,m|x) = \n",
    "\\underbrace{\\prod_{i:\\theta_k^i = 0}(1 - P^D(x_k^i))\\prod_{i:\\theta_k^i \\neq 0}P^D(x_k^i)}\n",
    "_{\\text{(1)}}\n",
    "\\underbrace{Po(m^c: \\bar{\\lambda}_c)}\n",
    "_{\\text{(2)}}\n",
    "\\underbrace{\\frac{1}{\\binom{m}{m^o}m!}}\n",
    "_{\\text{(3)}}\n",
    "$$\n",
    "\n",
    "where:\n",
    "1. Probability of detectiong a specific set of $m^o$ objects and miss-detecting the rest\n",
    "2. Probability of $m^c = m - m^o$ clutter detections\n",
    "3. Probability of the specific arangement of data association $\\theta_k$, 1 over number of ways to select $m^o$ detections and associating them to the specific objects"
   ]
  },
  {
   "cell_type": "markdown",
   "metadata": {},
   "source": [
    "### Association conditined likelihood\n",
    "The data association conditined likelihood $p(\\theta,m|x)$ is derived using the simplifying assumption that given $\\theta$ and $m$ the measurements are independent. The expression then becomes a product of the clutter likelihoods sampled from clutter pdf and the measurement likelihoods.\n",
    "\n",
    "$$\n",
    "p(Z|X,\\theta,m) = \\prod_{j:\\theta^i = j}f_c(z^j)\\prod_{i:\\theta^i \\neq 0}g(z^{\\theta^i}|x^i)\n",
    "$$"
   ]
  },
  {
   "cell_type": "markdown",
   "metadata": {},
   "source": [
    "### Measurement model"
   ]
  },
  {
   "cell_type": "markdown",
   "metadata": {},
   "source": [
    "### Measurement model in case of linear Gaussian"
   ]
  }
 ],
 "metadata": {
  "kernelspec": {
   "display_name": "Python 3",
   "language": "python",
   "name": "python3"
  },
  "language_info": {
   "codemirror_mode": {
    "name": "ipython",
    "version": 3
   },
   "file_extension": ".py",
   "mimetype": "text/x-python",
   "name": "python",
   "nbconvert_exporter": "python",
   "pygments_lexer": "ipython3",
   "version": "3.6.8"
  }
 },
 "nbformat": 4,
 "nbformat_minor": 2
}
