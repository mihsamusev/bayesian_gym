{
 "cells": [
  {
   "cell_type": "code",
   "execution_count": 1,
   "metadata": {},
   "outputs": [],
   "source": [
    "import numpy as np\n",
    "import scipy.stats as ss\n",
    "import matplotlib.pyplot as plt"
   ]
  },
  {
   "cell_type": "markdown",
   "metadata": {},
   "source": [
    "## Single object trackng problem\n",
    "Single object tracking - we know that there is a precisely 1 object\n",
    "\n",
    "- no need to infer number of objects\n",
    "- fewer data association hypotheses\n",
    "\n",
    "3 closely related challenges due to more complicated measurement model\n",
    "\n",
    "- missed detections - object detected with imperfect sensor that apart from the noise has the porbability of detection $P^D(x) \\le 1$\n",
    "- clutter detections - false detections that dont correspond to any object\n",
    "- unknown data association - at any time its unknown which of given detections (if any) is an object detection "
   ]
  },
  {
   "cell_type": "markdown",
   "metadata": {},
   "source": [
    "### Useful statistical background\n",
    "\n",
    "#### Some links\n",
    "- [good link to datacamp](https://www.datacamp.com/community/tutorials/probability-distributions-python)\n",
    "- [another good one YouTube crash course statistics](https://www.youtube.com/watch?v=WR0nMTr6uOo)\n",
    "\n",
    "#### Bernoulli distribution\n",
    "\n",
    "$p^k(p-1)^{1-k}$\n",
    "\n",
    "Probability of success or a failure of an event with 1 trial is described by follow Bernoulli distribution (heads/tails, true/false quiz, for/against vote, detection/no detection, infected/not infected zombie). Here $k \\in \\lbrace0,1\\rbrace$ Where $k = 1$ is sucess and $k = 0$ is failure.\n",
    "\n",
    "Example:"
   ]
  },
  {
   "cell_type": "code",
   "execution_count": 2,
   "metadata": {},
   "outputs": [
    {
     "name": "stdout",
     "output_type": "stream",
     "text": [
      "[0.8 0.2 0.  0. ]\n"
     ]
    },
    {
     "data": {
      "image/png": "[encoded data removed]",
      "text/plain": [
       "<Figure size 432x288 with 1 Axes>"
      ]
     },
     "metadata": {
      "needs_background": "light"
     },
     "output_type": "display_data"
    }
   ],
   "source": [
    "b = ss.bernoulli(0.2)\n",
    "x = [0, 1, 2, 3]\n",
    "p = b.pmf(x)\n",
    "print(p)\n",
    "\n",
    "# plot\n",
    "fig = plt.figure()\n",
    "ax = fig.add_axes([0,0,1,1])\n",
    "ax.bar(x,p)\n",
    "ax.set_ylabel('P[x=i]')\n",
    "ax.set_xlabel('i')\n",
    "plt.show()"
   ]
  },
  {
   "cell_type": "markdown",
   "metadata": {},
   "source": [
    "#### Binomial distribution\n",
    "\n",
    "The Bernoulli distribution is a special case of the binomial distribution where a single trial is conducted. Binomial distribution can also be understood as performing Bernoulli distribution multiple times in a row, using logical AND which corresponds to multiplication of probabilities.\n",
    "\n",
    "$\\binom{n}{k}p^k(p-1)^{n-k}$\n",
    "\n",
    "Consider having a toaster with 20% probability to hit you with electric shock when making a toast.  You eat a toast every work day. What is the probability of getting hit 1 time during the work week.\n",
    "\n",
    "Binomial formula contains 2 key parts:\n",
    "- $p^k(p-1)^{n-k}$ accounts for the probability that event happens k out of n times and does not happen the rest of the times. In our example the probability of getting 1 shock on monday and 0 shocks during the rest of the week $0.2^1 0.8^{5-1} = 8.2\\%$\n",
    "- $\\binom{n}{k}$ binomial coefficient accounts for in how many ways the specific event can happen. For our example we can get that one shock either early in the week or monday, or tuesday or any other day of the work week.  There are $n=5 \\text( choose ) k=1$ or $\\binom{5}{1} = 5$. There are 5 different ways we can receive one toaster shock during the week.\n",
    "\n",
    "$\\binom{5}{1}0.2^1 0.8^{5-1} = 41\\%$\n",
    "\n",
    "Lets look at another example. There is a 5% chance to that a person you meet on a way to a shelter is a zombie. There are 20 zombies on your way and you can only safely get to the shelter if you meet maximum 2 zombies. What is the probability of getting to the shelter."
   ]
  },
  {
   "cell_type": "code",
   "execution_count": 3,
   "metadata": {},
   "outputs": [
    {
     "name": "stdout",
     "output_type": "stream",
     "text": [
      "0.9245163262115033\n"
     ]
    }
   ],
   "source": [
    "# binomial distribution object\n",
    "b = ss.binom(20, 0.05)\n",
    "total_p = 0\n",
    "for k in range(0,3):\n",
    "    total_p += b.pmf(k)\n",
    "print(total_p)"
   ]
  },
  {
   "cell_type": "markdown",
   "metadata": {},
   "source": [
    "The expected value of the Binomial distribution is $\\mathbb{E}(x) = pn$"
   ]
  },
  {
   "cell_type": "markdown",
   "metadata": {},
   "source": [
    "### Poisson distribution\n",
    "Models number of events in a given interval (fx, but also other dimension like area). For example, the number of users visited on a website in an interval can be thought of a Poisson process. In our application its the number of clutter detections that can be modelled by Poisson. The events must be intependent as to say knowing how many clutter detections we have in time $t$ gives no information in determining how many clutter detections occur at time $t+1$. An event can occur $0,1,2,...$ times in an interval. The average number of events or event rate in an interval is designated $\\lambda > 0$. The probability of observing $k$ events in an interval is given by the equation:\n",
    "\n",
    "$$Po(X=k) = e^{-\\lambda}\\frac{\\lambda^k}{k!}$$\n",
    "\n",
    "On average student ask you 4 questions per day. Yesterday they asked 7 questions, what was the likelihood of that? In this question the event rate is $\\lambda=4$ and the amount of events is $k=7$, furthermore the time interval is 1 day.\n",
    "\n",
    "The expected value and variance is $\\lambda$"
   ]
  },
  {
   "cell_type": "markdown",
   "metadata": {},
   "source": [
    "### Measurement model\n",
    "The application of SOT requires the extension of the original measurement model used in the Bayesian filtering framework. In particular we would like to account not only for the uncertain detections, but also for missing object detections and extra detections that dont correspond to the object also known as clutter."
   ]
  },
  {
   "cell_type": "markdown",
   "metadata": {},
   "source": [
    "### Measurement model acounting for non-zero probability of misdetection\n",
    "The object is detected with probability of detection $ P^D(x)$ The probability of detection can be constant or depending on x, for example if x is predicted to be out of our sensors sight we know that probability of detection must be 0. The measurement model generates measurement from true state:\n",
    "\n",
    "$p(o_k|x_k) = g_k(o_k|x_k)$\n",
    "\n",
    "Object detection measurement is often assumed\n",
    "\n",
    "$o_k = h_k(x_k) + v_k$ where $ v_k \\backsim \\mathcal{N}(0,R_k)$ so that $ g_k(o_k|x_k) = \\mathcal{N}(o_k:h_k(x_k),R_k)$\n",
    "\n",
    "Detections are represented with a matrix, or sequence. For SOT the O_k contains at most 1 vector with measurement. The point object model assumption says that there is 0 probability of the object to generate more than 1 detection.\n",
    "$$O_k = \\begin{cases} [] &\\text{if object is undetected} \\\\ o_k &\\text{if object is detected} \\end{cases}$$\n",
    "\n",
    "Number of column vectors in $O_k$ is represented as $|O_k|$ and given $x_k$, $|O_k|$ is Bernoulli distributed (1 with $P^D$ otherwise 0):\n",
    "\n",
    "$$|O_k| = \\begin{cases} 1 &\\text{with probability }P^D(x_k) \\\\ 0 &\\text{with probability }1-P^D(x_k)\\end{cases}$$\n",
    "\n",
    "Combining two concepts above we arrive at the distribution of object measurement matrix. It captures both **the probability of detection** and if detected **the distribution of the detection**:\n",
    "$$p(O_k|x_k) = \\begin{cases} 1-P^D(x_k) &\\text{if }O_k = [] \\\\ P^D(x_k)g_k(o_k|x_k) &\\text{if } O_k = o_k \\end{cases}$$\n",
    "\n",
    "Interpretation of the first part is that the undetected measurement is equally likely to be found anywhere no matter $x_k$, so in the update step we are essentially not feeding any new information, just scaling the result of the prior (motion model) by the factor $1 - P^D(x_k)$\n",
    "\n",
    "Lets generate a few samples from that distribution. Lets assume $P^D(x_k) = 0.85$ and $g_k(o_k|x_k) = \\mathcal{N}(o_k:[3, 2]^T, 0.3\\mathbf{I})$\n",
    "    [FilterPy]() is used to plot the covariance ellipse"
   ]
  },
  {
   "cell_type": "code",
   "execution_count": 8,
   "metadata": {},
   "outputs": [
    {
     "data": {
      "application/vnd.jupyter.widget-view+json": {
       "model_id": "1ce05457f771412da6eb2a3d26db2820",
       "version_major": 2,
       "version_minor": 0
      },
      "text/plain": [
       "Button(description='Generate sample', style=ButtonStyle())"
      ]
     },
     "metadata": {},
     "output_type": "display_data"
    },
    {
     "data": {
      "application/vnd.jupyter.widget-view+json": {
       "model_id": "cad519b0b139459aa324dae258dac69d",
       "version_major": 2,
       "version_minor": 0
      },
      "text/plain": [
       "Output()"
      ]
     },
     "metadata": {},
     "output_type": "display_data"
    }
   ],
   "source": [
    "from numpy.random import rand\n",
    "from filterpy.stats import plot_covariance_ellipse\n",
    "\n",
    "def sample_Ok(p, gk, **kwargs):\n",
    "    '''Sample from measurement function gk\n",
    "    with probability of detection p'''\n",
    "    O_k = []\n",
    "    if rand() < p:\n",
    "        o_k = gk(**kwargs)\n",
    "        O_k.append(o_k)\n",
    "    return O_k\n",
    "\n",
    "def gk(x, P, N=1):\n",
    "    '''Produce N realizations from multivariate \n",
    "    Gaussian measurement model with mean x and \n",
    "    covariance matrix P'''\n",
    "    return np.random.multivariate_normal(x, P, N)\n",
    "\n",
    "def simulate_Ok_samples(pd, x, P):\n",
    "    o_k = sample_Ok(pd, gk, **{\"x\":x, \"P\":P})\n",
    "    print(\"o_k: \",o_k)\n",
    "    ax = plt.axes()\n",
    "  \n",
    "    plot_covariance_ellipse(x, P, fc='b',\n",
    "                        alpha=0.2, std=[1, 2, 3])\n",
    "    if o_k:\n",
    "        ax.plot(o_k[0][:,0], o_k[0][:,1], \"rs\")\n",
    "    ax.set_xlim(-2,6)\n",
    "    ax.set_ylim(-2,6)\n",
    "    ax.set_ylabel('z1 [m]')\n",
    "    ax.set_xlabel('z2 [m]')     \n",
    "    plt.show()\n",
    "# simulate\n",
    "\n",
    "\n",
    "# Create update button\n",
    "import ipywidgets as widgets\n",
    "from IPython.display import display, clear_output\n",
    "button = widgets.Button(description=\"Generate sample\")\n",
    "output = widgets.Output()\n",
    "\n",
    "def on_click_simulate(b):\n",
    "    pd = 0.85\n",
    "    x = [3, 2]\n",
    "    P = 0.3* np.eye(2)\n",
    "    with output:\n",
    "        clear_output()\n",
    "        simulate_Ok_samples(pd, x, P)\n",
    "    \n",
    "button.on_click(on_click_simulate)\n",
    "display(button, output)\n"
   ]
  },
  {
   "cell_type": "markdown",
   "metadata": {},
   "source": [
    "### Known associations\n",
    "Suppose data association is known\n",
    "Given a set of measurements $Z_k$, we know the detections $O_k$, in other words, we are tracking without clutter, so as long as we detected something it is an object\n",
    "\n",
    "How do we find posterior density $p(x_k|O_{1:k})$ in this case? We follow Bayesian filtering framework with prediction and update step. \n",
    "\n",
    "Prediction step does not change and follows Chapman-Kolmogorov equation in a general sense or Kalman filter prediction step in case of linear gaussian models.\n",
    "\n",
    "Update step follows Bayes theorem so that posterior is proportional to prior (prediction step result) times measurement likelihood. Given the measurement model extended to account for misdetections we get:\n",
    "\n",
    "$$ p(x_k|O_{1:k}) \\propto p(x_k|O_{1:k-1})p(O_k|x_k) = \\\\ =\n",
    "\\begin{cases} \n",
    "p(x_k|O_{1:k-1})(1-P^D(x_k)) &\\text{if }O_k = [] \\\\ \n",
    "p(x_k|O_{1:k-1})P^D(x_k)g_k(o_k|x_k) &\\text{if } O_k = o_k \\end{cases}$$\n",
    "\n",
    "So under the assumption that we know $O_k$ we there is a straigth forward procedure for the update step. In the case where $P^D$ is constant it can even be eliminated from the update step. Then we either carry on with the motion model olny if $O_k$ is empty or perform the update including the measurement model if $O_k$ contains the detection.\n",
    "\n",
    "Example:\n",
    "Observe the motion constant velocity model\n"
   ]
  },
  {
   "cell_type": "code",
   "execution_count": 6,
   "metadata": {},
   "outputs": [
    {
     "name": "stdout",
     "output_type": "stream",
     "text": [
      "measurements: [ 0.78634832         nan         nan  7.55391799 10.62254654 10.17740268\n",
      " 12.16690141 14.69968476 17.82009335 19.39776743]\n"
     ]
    },
    {
     "ename": "LinAlgError",
     "evalue": "1-dimensional array given. Array must be at least two-dimensional",
     "output_type": "error",
     "traceback": [
      "\u001b[1;31m---------------------------------------------------------------------------\u001b[0m",
      "\u001b[1;31mLinAlgError\u001b[0m                               Traceback (most recent call last)",
      "\u001b[1;32m<ipython-input-6-a44deed224b0>\u001b[0m in \u001b[0;36m<module>\u001b[1;34m\u001b[0m\n\u001b[0;32m     36\u001b[0m     \u001b[0mkf\u001b[0m\u001b[1;33m.\u001b[0m\u001b[0mpredict\u001b[0m\u001b[1;33m(\u001b[0m\u001b[1;33m)\u001b[0m\u001b[1;33m\u001b[0m\u001b[1;33m\u001b[0m\u001b[0m\n\u001b[0;32m     37\u001b[0m     \u001b[1;32mif\u001b[0m \u001b[0mz\u001b[0m\u001b[1;33m:\u001b[0m\u001b[1;33m\u001b[0m\u001b[1;33m\u001b[0m\u001b[0m\n\u001b[1;32m---> 38\u001b[1;33m         \u001b[0mkf\u001b[0m\u001b[1;33m.\u001b[0m\u001b[0mupdate\u001b[0m\u001b[1;33m(\u001b[0m\u001b[0mz\u001b[0m\u001b[1;33m)\u001b[0m\u001b[1;33m\u001b[0m\u001b[1;33m\u001b[0m\u001b[0m\n\u001b[0m\u001b[0;32m     39\u001b[0m     \u001b[0ms\u001b[0m\u001b[1;33m.\u001b[0m\u001b[0msave\u001b[0m\u001b[1;33m(\u001b[0m\u001b[1;33m)\u001b[0m\u001b[1;33m\u001b[0m\u001b[1;33m\u001b[0m\u001b[0m\n\u001b[0;32m     40\u001b[0m \u001b[1;33m\u001b[0m\u001b[0m\n",
      "\u001b[1;32mc:\\users\\msa\\appdata\\local\\continuum\\miniconda3\\lib\\site-packages\\filterpy\\kalman\\kalman_filter.py\u001b[0m in \u001b[0;36mupdate\u001b[1;34m(self, z, R, H)\u001b[0m\n\u001b[0;32m    543\u001b[0m         \u001b[1;31m# project system uncertainty into measurement space\u001b[0m\u001b[1;33m\u001b[0m\u001b[1;33m\u001b[0m\u001b[1;33m\u001b[0m\u001b[0m\n\u001b[0;32m    544\u001b[0m         \u001b[0mself\u001b[0m\u001b[1;33m.\u001b[0m\u001b[0mS\u001b[0m \u001b[1;33m=\u001b[0m \u001b[0mdot\u001b[0m\u001b[1;33m(\u001b[0m\u001b[0mH\u001b[0m\u001b[1;33m,\u001b[0m \u001b[0mPHT\u001b[0m\u001b[1;33m)\u001b[0m \u001b[1;33m+\u001b[0m \u001b[0mR\u001b[0m\u001b[1;33m\u001b[0m\u001b[1;33m\u001b[0m\u001b[0m\n\u001b[1;32m--> 545\u001b[1;33m         \u001b[0mself\u001b[0m\u001b[1;33m.\u001b[0m\u001b[0mSI\u001b[0m \u001b[1;33m=\u001b[0m \u001b[0mself\u001b[0m\u001b[1;33m.\u001b[0m\u001b[0minv\u001b[0m\u001b[1;33m(\u001b[0m\u001b[0mself\u001b[0m\u001b[1;33m.\u001b[0m\u001b[0mS\u001b[0m\u001b[1;33m)\u001b[0m\u001b[1;33m\u001b[0m\u001b[1;33m\u001b[0m\u001b[0m\n\u001b[0m\u001b[0;32m    546\u001b[0m         \u001b[1;31m# K = PH'inv(S)\u001b[0m\u001b[1;33m\u001b[0m\u001b[1;33m\u001b[0m\u001b[1;33m\u001b[0m\u001b[0m\n\u001b[0;32m    547\u001b[0m         \u001b[1;31m# map system uncertainty into kalman gain\u001b[0m\u001b[1;33m\u001b[0m\u001b[1;33m\u001b[0m\u001b[1;33m\u001b[0m\u001b[0m\n",
      "\u001b[1;32mc:\\users\\msa\\appdata\\local\\continuum\\miniconda3\\lib\\site-packages\\numpy\\linalg\\linalg.py\u001b[0m in \u001b[0;36minv\u001b[1;34m(a)\u001b[0m\n\u001b[0;32m    543\u001b[0m     \"\"\"\n\u001b[0;32m    544\u001b[0m     \u001b[0ma\u001b[0m\u001b[1;33m,\u001b[0m \u001b[0mwrap\u001b[0m \u001b[1;33m=\u001b[0m \u001b[0m_makearray\u001b[0m\u001b[1;33m(\u001b[0m\u001b[0ma\u001b[0m\u001b[1;33m)\u001b[0m\u001b[1;33m\u001b[0m\u001b[1;33m\u001b[0m\u001b[0m\n\u001b[1;32m--> 545\u001b[1;33m     \u001b[0m_assertRankAtLeast2\u001b[0m\u001b[1;33m(\u001b[0m\u001b[0ma\u001b[0m\u001b[1;33m)\u001b[0m\u001b[1;33m\u001b[0m\u001b[1;33m\u001b[0m\u001b[0m\n\u001b[0m\u001b[0;32m    546\u001b[0m     \u001b[0m_assertNdSquareness\u001b[0m\u001b[1;33m(\u001b[0m\u001b[0ma\u001b[0m\u001b[1;33m)\u001b[0m\u001b[1;33m\u001b[0m\u001b[1;33m\u001b[0m\u001b[0m\n\u001b[0;32m    547\u001b[0m     \u001b[0mt\u001b[0m\u001b[1;33m,\u001b[0m \u001b[0mresult_t\u001b[0m \u001b[1;33m=\u001b[0m \u001b[0m_commonType\u001b[0m\u001b[1;33m(\u001b[0m\u001b[0ma\u001b[0m\u001b[1;33m)\u001b[0m\u001b[1;33m\u001b[0m\u001b[1;33m\u001b[0m\u001b[0m\n",
      "\u001b[1;32mc:\\users\\msa\\appdata\\local\\continuum\\miniconda3\\lib\\site-packages\\numpy\\linalg\\linalg.py\u001b[0m in \u001b[0;36m_assertRankAtLeast2\u001b[1;34m(*arrays)\u001b[0m\n\u001b[0;32m    205\u001b[0m         \u001b[1;32mif\u001b[0m \u001b[0ma\u001b[0m\u001b[1;33m.\u001b[0m\u001b[0mndim\u001b[0m \u001b[1;33m<\u001b[0m \u001b[1;36m2\u001b[0m\u001b[1;33m:\u001b[0m\u001b[1;33m\u001b[0m\u001b[1;33m\u001b[0m\u001b[0m\n\u001b[0;32m    206\u001b[0m             raise LinAlgError('%d-dimensional array given. Array must be '\n\u001b[1;32m--> 207\u001b[1;33m                     'at least two-dimensional' % a.ndim)\n\u001b[0m\u001b[0;32m    208\u001b[0m \u001b[1;33m\u001b[0m\u001b[0m\n\u001b[0;32m    209\u001b[0m \u001b[1;32mdef\u001b[0m \u001b[0m_assertNdSquareness\u001b[0m\u001b[1;33m(\u001b[0m\u001b[1;33m*\u001b[0m\u001b[0marrays\u001b[0m\u001b[1;33m)\u001b[0m\u001b[1;33m:\u001b[0m\u001b[1;33m\u001b[0m\u001b[1;33m\u001b[0m\u001b[0m\n",
      "\u001b[1;31mLinAlgError\u001b[0m: 1-dimensional array given. Array must be at least two-dimensional"
     ]
    }
   ],
   "source": [
    "from filterpy.kalman import KalmanFilter\n",
    "from filterpy.common import Saver\n",
    "kf = KalmanFilter(dim_x=2, dim_z=1)\n",
    "\n",
    "# motion model\n",
    "dt = 1.0\n",
    "kf.F[0,1] = dt\n",
    "kf.Q = 0.5 * np.array([[1/3, 1/2],[1/2, 1]])\n",
    "# initial state\n",
    "kf.x = np.array([1, 2])\n",
    "kf.P = np.array([[0.3, 0],[0, 1]])\n",
    "# sensor model\n",
    "kf.H = np.array([1, 0])\n",
    "kf.R = np.array([1])\n",
    "\n",
    "def get_true_states(x0, v, N):\n",
    "    x_true = np.array([[x0, v],]*N) \n",
    "    x_true[:,0] = np.linspace(start=x0, stop=x0 + v*(N-1),num=N)\n",
    "    return x_true\n",
    "\n",
    "def get_measurements(x_true, pd):\n",
    "    x_true = np.array(x_true)\n",
    "    N = x_true.shape[0]\n",
    "    idx = rand(N) < pd\n",
    "    noise = np.random.normal(0, 1, N)\n",
    "    z = np.nan * np.ones(N)\n",
    "    z[idx] = x_true[idx, 0] + noise[idx]\n",
    "    return z\n",
    "\n",
    "x_true = get_true_states(x0=1, v=2, N=10)\n",
    "zs = get_measurements(x_true, pd=0.85)\n",
    "print(\"measurements:\",zs)\n",
    "\n",
    "s = Saver(kf)\n",
    "for z in zs:\n",
    "    kf.predict()\n",
    "    if z:\n",
    "        kf.update(z)\n",
    "    s.save()\n",
    "        \n",
    "def plot_motion():\n",
    "    pass\n",
    "# plot predicted\n",
    "# plot posterior\n",
    "# plot prior\n",
    "# plot observation"
   ]
  },
  {
   "cell_type": "markdown",
   "metadata": {},
   "source": [
    "### Standard clutter model\n",
    "General term for false detection, can come from sensor noise and incorrect detections\n",
    "\n",
    "The measurement matrix that includes not only the object detections $O_k$ but also clutter detections $C_k$ is represented as follows:\n",
    "\n",
    "$$Z_k = \\Pi(O_k,C_k)$$\n",
    "\n",
    "where the operator $\\Pi$ randomly shuffles column vectors\n",
    "\n",
    "To model clutter we need a stochastic model for the number of clutter detections $|C_k|$ as well as values of $C_k$\n",
    "\n",
    "Field of view of sensor in $\\mathbb{R}^{n_z}$ of volume V. $\\lambda$ denotes expected number of clutter detections **per unit volume** (or per interval like in Poisson definition).\n",
    "\n",
    "So if considered a field of view of 2D sensor being 2x2 units with $\\lambda = 0.8$, it will give us on average $4 \\cdot 0.8 = 3.2$ clutter points.\n",
    "\n",
    "Consider a model when we split a volume into j cells corresponding to the sensor resolution, so that in one cell we can get at most 1 detection. $C_k^{(1)},...,C_k^{(j)}$ are independent and the fact of having a detection or not in each cell corresponding to $|C_k^{(i)}|$ is Bernoulli distributed:\n",
    "\n",
    "$$|C_k^{(i)}| = \n",
    "\\begin{cases}\n",
    "1 &\\text{with probability }\\frac{\\lambda V}{j} \\\\\n",
    "0 &\\text{with probability }1-\\frac{\\lambda V}{j}\n",
    "\\end{cases}\n",
    "$$\n",
    "\n",
    "Then if we have $j$ events deciding the existence of detection in a cell that are Bernoulli distributed, the total number of clutter detections $|C_k|$ in the volume is binomially distributed. The probability of getting $k$ clutter detections is thus:\n",
    "\n",
    "$$Pr(k) = \\binom{n}{k}p^k(p-1)^{n-k}$$ with total trials $n = j$ and detection probability $p = \\frac{\\lambda V}{j}$\n",
    "\n",
    "Finally, if the cell contains the clutter detection $C_k^{(i)}$, the it is uniformly distributed within that cell.\n",
    "\n",
    "What would then happen if we assume unlimited resolution and make $j$ smaller. It then follows:\n",
    "- Probability to obtain more detections (more trials in binomial distribution)\n",
    "- Probability of detection in a single cell decreases\n",
    "-The mean amount of detection does not change $\\mathbb{E(|C_k|)} = \\lambda V$ for all $j$ since the mean of binomial distribution is $pj = \\frac{\\lambda V}{j}j = \\lambda V$\n",
    "\n",
    "As the number of cells increases $j \\to \\infty$\n",
    "- $|C_k|$ is Poisson distributed\n",
    "- $C_k$ is a Poisson point process"
   ]
  },
  {
   "cell_type": "code",
   "execution_count": null,
   "metadata": {},
   "outputs": [],
   "source": [
    "# visualization of binomial converging to the Poisson\n",
    "def draw_volume(V, j):\n",
    "    pass\n",
    "def draw_distributions(lambda, V, j):\n",
    "    pass"
   ]
  },
  {
   "cell_type": "markdown",
   "metadata": {},
   "source": [
    "### Poison point process\n",
    "The Poisson point process (PPP) is standard model for clutter. The clutter matrix content is:\n",
    "\n",
    "$$C_k = [c_k^1,...,c_k^{m^c_k}]$$\n",
    "\n",
    "where the number of clutter $m^c_k$ is Poisson distributed:\n",
    "\n",
    "$$m^c_k \\backsim Po(\\lambda V)$$\n",
    "\n",
    "Given $m^c_k$ the vectors $[c_k^1,...,c_k^{m^c_k}]$ are independent and uniformly distribute accross the volume V.\n",
    "\n",
    "$$c_k^i \\backsim unif(V)$$\n",
    "\n",
    "Lets generate samples from such PPP."
   ]
  },
  {
   "cell_type": "code",
   "execution_count": 7,
   "metadata": {},
   "outputs": [
    {
     "data": {
      "application/vnd.jupyter.widget-view+json": {
       "model_id": "9cb7b60cc35c4d7da90fec01f4747e5b",
       "version_major": 2,
       "version_minor": 0
      },
      "text/plain": [
       "Button(description='Generate sample', style=ButtonStyle())"
      ]
     },
     "metadata": {},
     "output_type": "display_data"
    },
    {
     "data": {
      "application/vnd.jupyter.widget-view+json": {
       "model_id": "e9b4ba9e8b774209a103185d440e2283",
       "version_major": 2,
       "version_minor": 0
      },
      "text/plain": [
       "Output()"
      ]
     },
     "metadata": {},
     "output_type": "display_data"
    }
   ],
   "source": [
    "from numpy.random import random, poisson\n",
    "def sample_ppp(lam, dx, dy):\n",
    "    Ck = []\n",
    "    mkc = poisson(lam * dx * dy)\n",
    "    for i in range(mkc):\n",
    "        ck = random(2) * np.array([dx, dy])\n",
    "        print(ck)\n",
    "        Ck.append(ck)\n",
    "    return np.array(Ck)\n",
    "        \n",
    "def sample_ppp_vectorize(lam, V, N):\n",
    "    pass\n",
    "\n",
    "def draw_samples_2d(zs, dx, dy):\n",
    "    ax = plt.axes()\n",
    "    if zs.size > 0:\n",
    "        ax.plot(zs[:,0], zs[:,1], \"rs\")\n",
    "        for i, z in enumerate(zs):\n",
    "            ax.text(z[0], z[1], f'$c_k^{{{i}}}$',\n",
    "                   fontsize=14)\n",
    "    ax.set_xlim([0, dx])\n",
    "    ax.set_ylim([0, dy])\n",
    "    ax.set_xlabel('z1 [m]')\n",
    "    ax.set_ylabel('z2 [m]') \n",
    "    plt.show()\n",
    "\n",
    "# Create update button\n",
    "import ipywidgets as widgets\n",
    "from IPython.display import display, clear_output\n",
    "button = widgets.Button(description=\"Generate sample\")\n",
    "output = widgets.Output()\n",
    "\n",
    "def on_click_simulate(b):\n",
    "    with output:\n",
    "        clear_output()\n",
    "        zs = sample_ppp(0.4, dx=2, dy=3)\n",
    "        draw_samples_2d(zs, dx=2, dy=3)\n",
    "    \n",
    "button.on_click(on_click_simulate)\n",
    "display(button, output)"
   ]
  },
  {
   "cell_type": "markdown",
   "metadata": {},
   "source": [
    "In general to parametrize clutter model one can use:\n",
    "- an intensity function $\\lambda_c(c) \\ge 0$ that helps to model expeting more or less clutter in different regions\n",
    "- combination of the rate and spatial pdf of clutter vectors:\n",
    "$$\n",
    "\\begin{cases}\n",
    "\\bar{\\lambda}_c = \\int\\lambda_c(c)dc & \\text{rate} \\\\\n",
    "f_c(c) = \\frac{\\lambda_c(c)}{\\bar{\\lambda_c}} & \\text{spatial PDF}\n",
    "\\end{cases}\n",
    "$$\n",
    "\n",
    "In the previous example we used the uniformly distributed intensity function, that is $\\lambda$ everywhere inside the field of view and 0 elsewhere:\n",
    "$$ \n",
    "\\lambda_c(c) =\n",
    "\\begin{cases}\n",
    "\\lambda & \\text{if } c \\in V \\\\\n",
    "0 & \\text{otherwise}\n",
    "\\end{cases}\n",
    "$$\n",
    "The following rate and spatial PDF correspond to such intensity function:\n",
    "$$\\bar{\\lambda}_c = \\lambda V$$\n",
    "$$ \n",
    "f_c(c) =\n",
    "\\begin{cases}\n",
    "\\frac{1}{V} & \\text{if } c \\in V \\\\\n",
    "0 & \\text{otherwise}\n",
    "\\end{cases}\n",
    "$$"
   ]
  },
  {
   "cell_type": "markdown",
   "metadata": {},
   "source": [
    "Sampling from the generalized method is very similar, except for the fact that the $c_k$ are now not necessarily uniformly distributed and need to be  sampled from the prescribed spatial PDF $f_c(c)$"
   ]
  },
  {
   "cell_type": "markdown",
   "metadata": {},
   "source": [
    "### PPP distribution\n",
    "Probability of obtaining a specific clutter matrix $C_k$ can be decomposed according to the law of total probability into the probability of obtaining $m_k^c$ clutter vectors and then the probability of obtaining the $C_k$ given fixed number of vectors.\n",
    "$$\n",
    "p(C_k) = p(C_k,m_k^c) = p(m_k^c)p(C_k|m_k^c)\n",
    "$$\n",
    "\n",
    "Given the clutter intensity rate $\\bar{\\lambda}_c$ we know from previous that the probability of obtaining exactly $m_k^c$ clutter vectors is:\n",
    "$$\n",
    "p(m_k^c) = Po(m_k^c:\\bar{\\lambda}_c)\n",
    "$$\n",
    "\n",
    "The probability of obtaining one clutter vector at position $c_k^i$ is given by spatial PDF $f_c(c)$. And since vectors are independently generated in a sequence the total probability is a product.\n",
    "$$\n",
    "p(C_k|m_k^c) = \\prod_{i=1}^{m_k^c}f_c(c_k^i)\n",
    "$$\n",
    "\n",
    "Putting it all together and simplifying a bit gives us the following probability:\n",
    "\n",
    "$$\n",
    "p(C_k) = Po(m_k^c:\\bar{\\lambda}_c)\\prod_{i=1}^{m_k^c}f_c(c_k^i) = \n",
    "e^{-\\bar{\\lambda}_c}\\frac{\\lambda^{m_k^c}}{m_k^c!}\\prod_{i=1}^{m_k^c}\\frac{\\lambda_c(c)}{\\bar{\\lambda_c}} =\n",
    "\\frac{e^{-\\bar{\\lambda}_c}}{m_k^c!}\\prod_{i=1}^{m_k^c}\\lambda_c(c)\n",
    "$$"
   ]
  },
  {
   "cell_type": "markdown",
   "metadata": {},
   "source": [
    "### Data association hypotheses\n",
    "\n",
    "We know how to model object detections and clutter detections, lets put them together\n",
    "\n",
    "Quick recap, the measurement matrix $Z_k = \\Pi(O_k,C_k)$ consists of:\n",
    "- **Object detections**: the object is detected with probability $P^D(x_k)$, and, if detected, generates $o_k \\backsim g_k(o_k|x_k)$\n",
    "- **Clutter detections**: number of clutter mesurements is $m_k^c \\backsim Po(\\bar{\\lambda}_c)$ and the clutter mesurements $c_k^1,...c_k^{m_k^c}$ are idenpendently and individually distributed $c_k^i \\backsim f_c(c_k^i)$ \n",
    "\n",
    "Main challenges are that the width of $Z_k$ is random and its unknown which, if any, detections are object detections. It turns out that we need to consider **all** possible associations between measurements in $Z_k$ and the object. To describe data association at time $k$ lets use $\\theta$:\n",
    "$$\n",
    "\\theta =\n",
    "\\begin{cases}\n",
    "i > 0 & \\text{if } z^i \\text{ is an object detection, with probability} P^D(x) \\\\\n",
    "0 & \\text{no objects detected, with probability } 1-P^D(x)\n",
    "\\end{cases}\n",
    "$$\n",
    "\n",
    "For example if $Z = [z^1, z^2, z^3]$ and $\\theta = 2$ then $z^2$ is an object detection whereas $z^1$ and $z^3$ are clutter. If $\\theta = 0$ all detections in Z are clutter detections.\n",
    "\n",
    "To simplify the distribution of Z and avoid the two main challenges mentioned above we try to define it using $m$ to model the width of Z. By the law of total probability we can use $\\theta$ to marginalize the pdf to consider individual hypotheses separately and sum them together. Finally, we can factorise the distribution corresponding to each hypothesis to the product of a distribution of Z and distribution of $\\theta$ and $m$ given $x$. The expression differes depending on $\\theta$ and $m$.\n",
    "\n",
    "$$\n",
    "p(Z|x) = p(Z,m|x) = \\sum_{\\theta=0}^{m}p(Z,m,\\theta|x) = \\sum_{\\theta=0}^{m}p(Z|m,\\theta,x)p(\\theta,m|x)\n",
    "$$\n",
    "\n",
    "#### case 1\n",
    "$\\theta = 0, m$ object is not detected, there are $m$ clutter detections. In this case all the vectors in $Z$ are clutter measurements, and their probability of finding this particular arangement of measurements knowing $\\theta$ and $m$ is a product of individual independent spatial PDFs $f_c(z^i)$. The Probability of $\\theta = 0$ is equivalent to the probability of misdetection $1 - P^D(x)$ and the probability of getting exactly $m$ clutter vectors is Poisson distributed with clutter intensity $\\bar{\\lambda}_c$.\n",
    "$$\n",
    "p(Z|m,\\theta,x) = \\prod_{i=1}^{m}f_c(z^i)\n",
    "\\\\\n",
    "p(\\theta,m|x) = (1 - P^D(x))Po(m: \\bar{\\lambda}_c)\n",
    "\\\\\n",
    "p(Z,m,\\theta|x) = (1 - P^D(x))Po(m: \\bar{\\lambda}_c)\\prod_{i=1}^{m}f_c(z^i)\n",
    "$$\n",
    "Plugging in definitions of Poisson distribution and spatial PDF and simplifying gives:\n",
    "$$\n",
    "p(Z,m,\\theta|x) = (1 - P^D(x))\\frac{e^{-\\bar{\\lambda}_c}}{m!}\\prod_{i=1}^{m}\\lambda_c(z^i)\n",
    "$$\n",
    "To repeat, this expression includes:\n",
    "- probability of not detecting any object\n",
    "- probability of all the measurements being clutter\n",
    "- probability of finding the clutter measurement at given position\n",
    "\n",
    "#### case 2\n",
    "$\\theta = i > 0, m > 0$ object is detected, its index is $i$, there are $m - 1$ clutter detections. $p(Z|m,\\theta,x)$ now represents the probability of finding one measurement at $z^{\\theta}$ and $m - 1$ clutter points. The spatial pdf for clutter is evaluated for all measurements $z^i$ except for the object hypothesis $i = \\theta$. The Probability of $\\theta > 0$ is equivalent to the probability of detection $P^D(x)$. The probability of $\\theta = i$ is equally likely for any measurement $z^i$ and it is uniformly distributed $\\frac{1}{m}$. Finally the probability of getting exactly $m - 1$ clutter vectors is Poisson distributed with clutter intensity $\\bar{\\lambda}_c$.\n",
    "$$\n",
    "p(Z|m,\\theta,x) = g_k(z^{\\theta|x})\\prod_{i=1,i\\neq\\theta}^{m}f_c(z^i) = \n",
    "g_k(z^{\\theta}|x)\\frac{\\prod_{i=1}^{m}f_c(z^i)}{f_c(z^{\\theta})}\n",
    "$$\n",
    "In that last expression, to avoid working with conditionals we have used a trick by dividing the product expression by the spatial pdf corresponding to the detected object. To see that it is valid consider an example. $Z = {z^1, z^2}$, $\\theta=m=2$.\n",
    "$$\n",
    "p(Z|m,\\theta,x) = g_k(z^2|x)f_c(z^1) = g_k(z^2|x)\\frac{f_c(z^1)f_c(z^2)}{f_c(z^2)} = g_k(z^{2}|x)\\frac{\\prod_{i=1}^{m}f_c(z^i)}{f_c(z^{2})}\n",
    "$$\n",
    "$$\n",
    "\\\\\n",
    "p(\\theta,m|x) = P^D(x)Po(m - 1: \\bar{\\lambda}_c)\\frac{1}{m}\n",
    "\\\\\n",
    "p(Z,m,\\theta|x) = P^D(x)Po(m - 1: \\bar{\\lambda}_c)\\frac{1}{m}g_k(z^{\\theta}|x)\\frac{\\prod_{i=1}^{m}f_c(z^i)}{f_c(z^{\\theta})}\n",
    "$$\n",
    "Plugging in definitions of Poisson distribution and spatial PDF and simplifying gives:\n",
    "$$\n",
    "p(Z,m,\\theta|x) = P^D(x)\\frac{g_k(z^{\\theta}|x)}{\\lambda_c(z^{\\theta})}\\frac{e^{-\\bar{\\lambda}_c}}{m!}\\prod_{i=1}^{m}\\lambda_c(z^i)\n",
    "$$\n",
    "To repeat, this expression includes:\n",
    "- probability of detecting an object\n",
    "- probability that detected object is in a certain position in measurement matrix\n",
    "- probability of all remaining measurements being clutter\n",
    "- probability of finding the object measurement at given position\n",
    "- probability of finding the clutter measurement at given position"
   ]
  },
  {
   "cell_type": "markdown",
   "metadata": {},
   "source": [
    "### Complete measurement model\n",
    "\n",
    "$$\n",
    "p(Z|x) =\n",
    "\\sum_{\\theta=0}^{m}p(Z,m,\\theta|x) = \\\\ =\n",
    "(1-P^D(x))\\frac{exp(-\\bar{\\lambda}_c)}{m!}\\prod_{i=1}^{m}\\lambda_{c}(z^i) +\n",
    "\\sum_{\\theta=1}^{m}P^D(x)\\frac{g_{k}(z^{\\theta}|x)}{\\lambda_{c}(z^{\\theta})}\n",
    "\\frac{exp(-\\bar{\\lambda}_c)}{m!}\\prod_{i=1}^{m}\\lambda_{c}(z^i) \\\\ =\n",
    "\\left[\n",
    "(1 - P^D(x)) + \\sum_{\\theta=1}^{m}P^D(x)\\frac{g_{k}(z^{\\theta}|x)}{\\lambda_{c}(z^{\\theta})}\n",
    "\\right]\n",
    "\\frac{exp(-\\bar{\\lambda}_c)}{m!}\\prod_{i=1}^{m}\\lambda_{c}(z^i)\n",
    "$$\n",
    "\n",
    "If the probability of detection is lower than 1.0 the likelihood function $p(Z|x)$ is a mixture of $m_k+1$ components since we get one component for each $\\theta_k \\in \\lbrace0,1,..,m_k\\rbrace$\n",
    "\n",
    "A interesting feature of this model is that the factor $\\frac{exp(-\\bar{\\lambda}_c)}{m!}\\prod_{i=1}^{m}\\lambda_{c}(z^i)$ does not depend on x and can be eliminated in the evaluation of the update step."
   ]
  },
  {
   "cell_type": "markdown",
   "metadata": {},
   "source": [
    "#### Complete SOT model example 2\n",
    "\n",
    "Probability of detection $P^D(x) = 0.85$\n",
    "\n",
    "Object likelihood $g_k(o|x) = \\mathcal{N}(o:x,0.2)$\n",
    "\n",
    "Clutter intensity in region bound by $c_{max}$ in 1D\n",
    "\n",
    "$\n",
    "\\lambda(c) = \n",
    "\\begin{cases} 0.3 &\\text{if }|x| \\le c_{max} \\\\\n",
    "0 &\\text{otherwise} \n",
    "\\end{cases}\n",
    "$\n",
    "\n",
    "Measurement matrix $Z = [-1.6, 1]$\n",
    "\n",
    "We have observed 2 measurements which means we will have 3 hypotheses:\n",
    "- object is not detected, both measurements are clutter\n",
    "- $z^1$ is the object, $z^2$ is the clutter\n",
    "- $z^2$ is the object, $z^1$ is the clutter"
   ]
  },
  {
   "cell_type": "code",
   "execution_count": 62,
   "metadata": {},
   "outputs": [
    {
     "data": {
      "image/png": "[encoded data removed]",
      "text/plain": [
       "<Figure size 432x288 with 1 Axes>"
      ]
     },
     "metadata": {
      "needs_background": "light"
     },
     "output_type": "display_data"
    }
   ],
   "source": [
    "from scipy.stats import norm\n",
    "from math import factorial\n",
    "\n",
    "def g(z, x, sigma=0.2):\n",
    "    '''return object measurement as a realization\n",
    "    from 1d gaussian ()'''\n",
    "    return norm.pdf(z, x, sigma)\n",
    "\n",
    "def lamc(z, value=0.3, region=5):\n",
    "    '''return uniformly distributed clutter intesity\n",
    "    defined within +/- 1d region value'''\n",
    "    lam = 0\n",
    "    if np.abs(z) <= region:\n",
    "        lam = value\n",
    "    return lam\n",
    "\n",
    "def pZd(zs, thetas, x, pd, g, **kwargs):\n",
    "    '''return measurement likelihood'''\n",
    "    m = len(zs)\n",
    "    lams = [lamc(z, **kwargs) for z in zs]\n",
    "    p_total = 0\n",
    "    for t in thetas:\n",
    "        if t > m:\n",
    "            p = 0\n",
    "        elif t == 0:\n",
    "            p = 1 - pd\n",
    "        else:\n",
    "            p = pd * g(zs[t-1], x) / lams[t-1]\n",
    "        p_total += p\n",
    "    return p_total\n",
    "\n",
    "pd = 0.2\n",
    "Z = [-1.6, 1]\n",
    "\n",
    "xs = np.linspace(start=-6, stop=6, num=200)\n",
    "params = {\"value\": 0.3, \"region\": 5}\n",
    "ps0 = [pZd(Z, [0], x, pd, g, **params) for x in xs]\n",
    "ps1 = [pZd(Z, [1], x, pd, g, **params) for x in xs]\n",
    "ps2 = [pZd(Z, [2], x, pd, g, **params) for x in xs]\n",
    "ps_total = [pZd(Z, [0,1,2], x, pd, g, **params) for x in xs]\n",
    "\n",
    "ax = plt.axes()\n",
    "ax.plot(Z, [0] * len(Z), \"rs\", label=r\"$Z$\")\n",
    "ax.plot(xs, ps0, \"g--\", label=r'$p(Z,m,\\theta|x), \\theta=0$')\n",
    "ax.plot(xs, ps1, \"m--\", label=r'$p(Z,m,\\theta|x), \\theta=1$')\n",
    "ax.plot(xs, ps2, \"b--\", label=r'$p(Z,m,\\theta|x), \\theta=2$')\n",
    "#ax.plot(xs, ps_total, \"k\", label=r'$p(Z|x)$')\n",
    "ax.legend()\n",
    "plt.show()"
   ]
  },
  {
   "cell_type": "markdown",
   "metadata": {},
   "source": [
    "### Filtering with complete SOT model example\n",
    "Object likelihood $g_k(o_k|x_k)$ could be for example Gaussian $\\mathcal{N}(o_k:x_k,0.2)$\n",
    "\n",
    "Clutter intensity in region bound by $c_{max}$ (range or area for 1d and 2d respectively) \n",
    "\n",
    "$$\\lambda(c) = \\begin{cases} 0.4 &\\text{if }|x| \\le c_{max} \\\\ 0 &\\text{otherwise} \\end{cases}$$\n",
    "\n",
    "Sequence of measurements $Z_{1:k} = (Z_1, Z_2, ..., Z_k)$ for example, a sequence of 3 measurements could be $Z_1 = [-1.3, 1.7]$, $Z_2 = [1.3]$ and $Z_3 =[-0.3, 2.3]$"
   ]
  },
  {
   "cell_type": "code",
   "execution_count": 82,
   "metadata": {},
   "outputs": [
    {
     "data": {
      "image/png": "[encoded data removed]",
      "text/plain": [
       "<Figure size 432x288 with 4 Axes>"
      ]
     },
     "metadata": {
      "needs_background": "light"
     },
     "output_type": "display_data"
    }
   ],
   "source": [
    "def draw_measurements_k(ax, Z, k, prior_x):\n",
    "    '''draw 1d measurements versus time'''\n",
    "    ax.plot([k] * len(Z[k]), Z[k], \"b*\")\n",
    "\n",
    "def g(z, x, sigma=0.2):\n",
    "    '''return object measurement as a realization\n",
    "    from 1d gaussian ()'''\n",
    "    return norm.pdf(z, x, sigma)\n",
    "\n",
    "pd = 0.9\n",
    "lambda_params = {\"value\": 0.4, \"region\": 4}\n",
    "xs = np.linspace(-3, 3, 100)\n",
    "Z = [\n",
    "    [-1.3, 1.7],\n",
    "    [1.3],\n",
    "    [-0.3, 2.3]]\n",
    "k = 0\n",
    "thetas = range(len(Z[k]) + 1)\n",
    "prior = norm.pdf(xs, 0.5, 0.5)\n",
    "likelihood = [pZd(Z[k], thetas, x, pd, g, **params) for x in xs]\n",
    "posterior = likelihood * prior\n",
    "\n",
    "# measurements\n",
    "ax1 = plt.subplot(141)\n",
    "draw_measurements_k(ax1, Z, k, [])\n",
    "ax1.set_ylim((-3,3))\n",
    "ax1.set_ylabel(r\"x\")\n",
    "ax1.set_xlabel(r\"Time $k$\")\n",
    "\n",
    "# prior\n",
    "ax2 = plt.subplot(142, sharey=ax1)\n",
    "ax2.plot(prior, xs,\"g\")\n",
    "ax2.set_xlabel(r\"$p(x)$\")\n",
    "\n",
    "# likelihood\n",
    "ax3 = plt.subplot(143, sharey=ax1)\n",
    "ax3.plot(likelihood, xs,\"g\")\n",
    "ax3.set_xlabel(r\"$p(Z|x)$\")\n",
    "\n",
    "# posterior\n",
    "ax4 = plt.subplot(144, sharey=ax1)\n",
    "ax4.plot(posterior, xs,\"g\")\n",
    "ax4.set_xlabel(r\"$p(x|Z)$\")\n",
    "plt.show()"
   ]
  },
  {
   "cell_type": "markdown",
   "metadata": {},
   "source": [
    "## General SOT filtering equations\n",
    "\n",
    "### Intro\n",
    "The goal of this part is to derive exact filtering equations. What we mean by this is a set of equations that describe how to recursively compute the posterior of the state at time k given measurements up until and including time k $p(x_k|Z_{1:k})$.\n",
    "\n",
    "Let sequence of measurements and data association hypotheses up to time $k$ be respectively $Z_{1:k} = (Z_1,Z_2, ..., Z_k)$ and $\\theta_{1:k} = (\\theta_1,\\theta_2, ..., \\theta_k)$. The posterior $p(x_k|Z_{1:k})$ in SOT needs to evaluate all data association hypothesis sequences. The derivation uses the law of total probability. The new random variable $\\theta_{1:k}$ is introduced to create a new joint distribution $p(x_k, \\theta_{1:k}|Z_{1:k})$ and the $p(x_k|Z_{1:k})$ becomes the marginalized density of that distribution. Finally the joint distribution is factored into two parts described shortly that we can derrive on their own later.\n",
    "\n",
    "$$\n",
    "p(x_k|Z_{1:k}) = \n",
    "\\sum_{\\theta_{1:k}}p(x_k, \\theta_{1:k}|Z_{1:k}) = \n",
    "\\sum_{\\theta_{1:k}}\n",
    "\\underbrace{p(x_k|Z_{1:k},\\theta_{1:k})}_{\\text{posterior with a}\\atop\\text{ known hypothesis}}\n",
    "\\underbrace{Pr(\\theta_{1:k}|Z_{1:k})}_{\\text{probability of}\\atop\\text{the hypothesis}}\n",
    "$$\n",
    "\n",
    "The term $p(x|Z_{1:k},\\theta_{1:k})$ is the density of object state given all the measurements and the specific sequence of data association hypotheses. In this density we assume that we know which of the measurements are the object detections, as in the object tracking with known associations. $Pr(\\theta_{1:k}|Z_{1:k})$ is the probability mass function (discrete) of the data association hypothesis given the measurements. This factor scales the different densities and gives smaller weights to the unlikely sequences of hypotheses.\n",
    "\n",
    "*Note: the derivation precisely follows the steps that was used earlier about the complete measurement model. First we identify variables that can simplify things for us. Then we use the law of total probability to introduce them, and finally, we factorize the distribution.*\n",
    "\n",
    "The derrivation of the predicted density follows exactly the same logic. Note however that the hypotheses sequences in the sum do not change, because in the prediction step we have not introduced any measurements, and we predict based on the past knowledge on the data associations.\n",
    "\n",
    "$$\n",
    "p(x_{k+1}|Z_{1:k}) = \n",
    "\\sum_{\\theta_{1:k}}\n",
    "\\underbrace{p(x_{k+1}|Z_{1:k},\\theta_{1:k})}_{\\text{predicted density with a}\\atop\\text{ known hypothesis}}\n",
    "\\underbrace{Pr(\\theta_{1:k}|Z_{1:k})}_{\\text{probability of}\\atop\\text{the hypothesis}}\n",
    "$$\n",
    "\n",
    "At time $k$ there are $m_k + 1$ data association hypotheses. Think of them as how to connect the current association seqeunce or a track to new $m_k$ object detection possibilities also considering that there is no object detected. The number of possible association sequences at time $k$ grows **very quickly** with k.\n",
    "\n",
    "$$\n",
    "\\prod_{i=1}^k(m_i + 1)\n",
    "$$\n",
    "\n",
    "Key idea: **the posterior is a weighted sum of posteriors with known hypothese sequences**. \n",
    "\n",
    "What we know so far: \n",
    "- how to calculate the posterior likelihood with given association for time $k$\n",
    "\n",
    "What are missing: \n",
    "- posterior density with given association for times $1:k$\n",
    "- probability of the data association sequence $Pr[\\theta_{1_k}|Z_{1:k}]$.\n",
    "\n",
    "So lets work towards those goals"
   ]
  },
  {
   "cell_type": "markdown",
   "metadata": {},
   "source": [
    "### Single update step as a sum of hypotheses\n",
    "To re-cap, given the prior $p(x)$ and the complete measurement likelihood for step $k$ \n",
    "\n",
    "$$\n",
    "p(Z,m,\\theta|x) = \\sum_{\\theta_k=0}^{m_k}p(Z_k, m_k, \\theta_k|x_k)\n",
    "$$\n",
    "The posterior density according the Bayes rule is proportional to the following expression($k$ ommited for clarity):\n",
    "\n",
    "$$\n",
    "p(x|Z) \\propto p(x)p(Z|x) = \\sum_{\\theta = 0}^m \n",
    "\\underbrace{p(x)p(Z,m,\\theta|x)}_{g_{\\theta}(x)}\n",
    "$$\n",
    "\n",
    "To find the actual posterior density we need to **normalize** the expression, at the same time it would be very useful to factor it in an intuitive way using the principles in the previous chapter so that:\n",
    "- weights are probabilites of different data association hypotheses\n",
    "- pdfs are posterior densities given a specific data associations\n",
    "\n",
    "$$\n",
    "p(x|Z) = \\sum_{\\theta=0}^m w_{\\theta}p_{\\theta}(x)\n",
    "$$\n",
    "\n",
    "where $w_{\\theta}$ is a probability mass function (discrete) $Pr[\\theta|Z]$ that describes the probability of data association $\\theta$ with known measurement. $p_{\\theta}(x)$ is a pdf $p(x|\\theta,Z)$ posterior of $x$ with known $\\theta$."
   ]
  },
  {
   "cell_type": "markdown",
   "metadata": {},
   "source": [
    "### Normalization of a density mixture\n",
    "Lets take a side step and figure out how to normalize a general mixture of densities. Consider a PDF $p(x)$ that is proportional to another density $g(x)$ that is a mixture of a sum of densities $g_{\\theta}$ where $\\theta \\in {0, 1, ..., m}$. All mixture componens are non-negative functions with finite intergral or area under the curve. \n",
    "$$\n",
    "p(x) \\propto g(x) = \\sum_{\\theta=0}^{m}g_{\\theta}(x)\n",
    "$$\n",
    "Our goal is to express p(x) as a mixture of PDF as follows:\n",
    "$$\n",
    "p(x) = \\sum_{\\theta=0}^{m}w_{\\theta}p_{\\theta}(x)\n",
    "$$"
   ]
  },
  {
   "cell_type": "markdown",
   "metadata": {},
   "source": [
    "Lets start simple and consider a normalization of a function. For $p(x) \\propto g(x)$ there is a constant $c$ such that $p(x) = cg(x)$. Given that $p(x)$ is a PDF that by definition has unit area the constant can be found.\n",
    "\n",
    "$$\n",
    "\\int p(x)dx = c \\int g(x)dx = 1\n",
    "\\Rightarrow c = \\frac{1}{\\int g(x)dx}\n",
    "\\Rightarrow p(x) = g(x)\\frac{1}{\\int g(x)dx}\n",
    "$$\n",
    "\n",
    "Also we can notice the fact that an arbitrary density $g_{\\theta}(x)$ can be represented as a PDF $p_{\\theta}(x)$ and unnormalized weight $\\tilde{w}_{\\theta}$. \n",
    "$$\n",
    "\\tilde{w}_{\\theta} = \\int g_{\\theta}(x)dx \\\\\n",
    "p_{\\theta}(x) = \\frac{g_{\\theta}(x)}{\\tilde{w}_{\\theta}} \\\\\n",
    "g_{\\theta}(x) = \\tilde{w}_{\\theta}p_{\\theta}(x)\n",
    "$$\n",
    "\n",
    "\n",
    "Plugging this result into the mixture we obtain the sum over factorization of each mixture components as follows:\n",
    "$$\n",
    "p(x) \\propto g(x) = \\sum_{\\theta=0}^{m}g_{\\theta}(x) = \\sum_{\\theta=0}^{m}\\tilde{w}_{\\theta}p_{\\theta}(x)\n",
    "$$\n",
    "The very last step is figure out the factor to normalize $g(x)$. Combining all previously derived expressions for the factorization and weights we get:\n",
    "$$\n",
    "c = \\int g(x)dx = \\sum_{\\theta=0}^m\\int g_{\\theta}(x)dx = \\sum_{\\theta=0}^m\\tilde{w}_{\\theta}\n",
    "$$\n",
    "\n",
    "This tells us that to normalize $g(x)$ it is **sufficient to normalize the unnormalized weights** as follows:\n",
    "$$\n",
    "w_{\\theta} = \\frac{\\tilde{w}_{\\theta}}{\\sum_{\\theta=0}^m\\tilde{w}_{\\theta}} \\\\\n",
    "p(x) = \\frac{\\sum_{\\theta=0}^m\\tilde{w}_{\\theta}p_{\\theta}(x)}{\\sum_{\\theta=0}^m\\tilde{w}_{\\theta}} =\n",
    "\\sum_{\\theta=0}^m w_{\\theta}p_{\\theta}(x)\n",
    "$$\n",
    "Note: the difference between $w_{\\theta}$ and $\\tilde{w}_{\\theta}$ is that $w_{\\theta}$ sum to 1.\n",
    "\n",
    "So, to re-cap, if we know the mixture components $g_{\\theta}$ that compose $g(x)$ we can find $p(x) \\propto g(x)$ by finding first the unnormalized weight $\\tilde{w}_{\\theta}$ which leads to finding mixture PDF componens $p_{\\theta}$ and normalized weights $w_{\\theta}$ that can be combined into $p(x)$.\n",
    "\n",
    "Consider an example:"
   ]
  },
  {
   "cell_type": "code",
   "execution_count": 123,
   "metadata": {},
   "outputs": [
    {
     "name": "stdout",
     "output_type": "stream",
     "text": [
      "unnormalized weights: wt1:  0.44589719890282664  wt2:  0.9597097075009733  wt3  0.5297242195109074\n",
      "Area under g_x:  1.9353311259147075\n",
      "normalized weights: w1:  0.2303984020781351  w2:  0.49588915025969  w3  0.27371244766217495\n",
      "Area under p_x:  1.0000000000000002\n"
     ]
    },
    {
     "data": {
      "image/png": "[encoded data removed]",
      "text/plain": [
       "<Figure size 432x288 with 2 Axes>"
      ]
     },
     "metadata": {
      "needs_background": "light"
     },
     "output_type": "display_data"
    }
   ],
   "source": [
    "# mixture distribution\n",
    "x = np.linspace(-5,5,100)\n",
    "g1 = norm.pdf(x, -1, 2) * rand()\n",
    "g2 = norm.pdf(x, 0, 0.3) * rand()\n",
    "g3 = norm.pdf(x, 2, 1) * rand()\n",
    "g = g1 + g2 + g3\n",
    "\n",
    "# unscaled wights\n",
    "wt1 = np.trapz(g1, x)\n",
    "wt2 = np.trapz(g2, x)\n",
    "wt3 = np.trapz(g3, x)\n",
    "print(\"unnormalized weights: wt1: \",wt1,\" wt2: \", wt2,\" wt3 \", wt3)\n",
    "print(\"Area under g_x: \", np.trapz(g, x))\n",
    "\n",
    "# mixture pdfs\n",
    "p1 = g1 / wt1\n",
    "p2 = g2 / wt2 \n",
    "p3 = g3 / wt3\n",
    "\n",
    "# normalized weights\n",
    "sumwt = wt1 + wt2 + wt3\n",
    "w1 = wt1 / sumwt\n",
    "w2 = wt2 / sumwt\n",
    "w3 = wt3 / sumwt\n",
    "print(\"normalized weights: w1: \",w1,\" w2: \", w2,\" w3 \", w3)\n",
    "\n",
    "# normalized mixture\n",
    "p = w1*p1 + w2*p2 + w3*p3\n",
    "print(\"Area under p_x: \", np.trapz(p, x))\n",
    "\n",
    "ax = plt.subplot(121)\n",
    "ax.plot(x, g1, \"m--\", label=r\"$g_1(x)$\")\n",
    "ax.plot(x, g2, \"b--\", label=r\"$g_2(x)$\")\n",
    "ax.plot(x, g3, \"g--\", label=r\"$g_3(x)$\")\n",
    "ax.plot(x, g, \"k\", label=r\"$g(x)$\")\n",
    "ax.set_xlabel(r\"$x$\")\n",
    "ax.set_xlim((np.min(x), np.max(x)))\n",
    "plt.legend()\n",
    "\n",
    "ax = plt.subplot(122)\n",
    "ax.plot(x, p1, \"m--\", label=r\"$p_1(x)$\")\n",
    "ax.plot(x, p2, \"b--\", label=r\"$p_2(x)$\")\n",
    "ax.plot(x, p3, \"g--\", label=r\"$p_3(x)$\")\n",
    "ax.plot(x, p, \"k\", label=r\"$p(x)$\")\n",
    "ax.set_xlabel(r\"$x$\")\n",
    "ax.set_xlim((np.min(x), np.max(x)))\n",
    "plt.legend()\n",
    "\n",
    "plt.show()"
   ]
  },
  {
   "cell_type": "markdown",
   "metadata": {},
   "source": [
    "#### Back to the factorization of the posterior\n",
    "We have got an intuition of how to obtain a posterior PDF using the factorization into weights and mixture component PDFS.\n",
    "$$\n",
    "p(x|Z) \\propto p(x)p(Z|x) = \\sum_{\\theta = 0}^m \n",
    "\\underbrace{p(x)p(Z,m,\\theta|x)}_{g_{\\theta}(x)} = \n",
    "\\sum_{\\theta=0}^m w_{\\theta}p_{\\theta}(x)\n",
    "$$\n",
    "\n",
    "Applying the law of total probability one can obtain an individual expression for $w_{\\theta}p_{\\theta}(x)$:\n",
    "$$\n",
    "p(x,Z) = \n",
    "\\sum_{\\theta=1}^{m}p(x,\\theta|Z) = \n",
    "\\sum_{\\theta=1}^{m}w_{\\theta}p_{\\theta}(x)\n",
    "\\Rightarrow p(x, \\theta|Z) = w_{\\theta}p_{\\theta}(x)\n",
    "$$\n",
    "Based on this results we can draw a few interesting conclusions:\n",
    "- integrating over $x$ on both sides of the equation we find that the normalized weights are data association probabilities $$w_{\\theta} = Pr(\\theta|Z)$$\n",
    "- dividing both sides by normalized weights and using the [definition of conditional distributions](https://en.wikipedia.org/wiki/Conditional_probability_distribution) we find that the PDFs in the factorization are indeed conditional posterior PDFs\n",
    "$$p_{\\theta}(x) = \\frac{p(x,\\theta|Z)}{w_{\\theta}} = \\frac{p(x,\\theta|Z)}{Pr(\\theta|Z)} = p(x|\\theta, Z)$$"
   ]
  },
  {
   "cell_type": "markdown",
   "metadata": {},
   "source": [
    "### Back to general equations\n",
    "\n",
    "The goal is to derive $p(x|Z) = \\sum_{\\theta=0}^m w_{\\theta}p_{\\theta}(x)$ for general models defined by:\n",
    "- prior $p(x)$\n",
    "- probability of detection $P^D(x)$\n",
    "- clutter intensity function $\\lambda_c(c)$\n",
    "- sensor model $g(o|x)$\n",
    "\n",
    "Considering the complete measurement model $p(Z|x)$ notice that the last part is independent on $x$ and thus only affects the normalization that we will solve in a new way presented above.\n",
    "$$\n",
    "p(x|Z) \\propto p(x)p(Z|x) \\propto p(x) \\left[\n",
    "(1 - P^D(x)) + \\sum_{\\theta=1}^{m}P^D(x)\\frac{g_{k}(z^{\\theta}|x)}{\\lambda_{c}(z^{\\theta})}\n",
    "\\right]\n",
    "$$\n",
    "\n",
    "It is desired to represent this posterior as $p(x|Z) = \\sum_{\\theta=0}^m w_{\\theta}p_{\\theta}(x)$"
   ]
  },
  {
   "cell_type": "markdown",
   "metadata": {},
   "source": [
    "Consider follwing example:\n",
    "3 hypotheses\n",
    "\n"
   ]
  },
  {
   "cell_type": "code",
   "execution_count": 135,
   "metadata": {},
   "outputs": [
    {
     "data": {
      "image/png": "[encoded data removed]",
      "text/plain": [
       "<Figure size 432x288 with 1 Axes>"
      ]
     },
     "metadata": {
      "needs_background": "light"
     },
     "output_type": "display_data"
    }
   ],
   "source": [
    "px = lambda x: norm.pdf(x, 0.5, 0.5)\n",
    "pd = lambda x: 0.85\n",
    "go = lambda o, mean: norm.pdf(o, mean, 0.2)\n",
    "lamc = lambda c: 0.3 if np.abs(c) < 5 else 0\n",
    "\n",
    "Z = [-1.6, 1]\n",
    "\n",
    "# measurement likelihoods for 3 hypotheses\n",
    "\n",
    "# unnormalized weights\n",
    "\n",
    "# pds for hypotheses pti\n",
    "\n",
    "# normalized weights wti\n",
    "\n",
    "# posterior\n",
    "x = np.linspace(-3,3,100)\n",
    "p = px(x)\n",
    "plt.plot(x,p,label=r'$p(x)$')\n",
    "plt.legend()\n",
    "plt.show()\n",
    "\n"
   ]
  },
  {
   "cell_type": "code",
   "execution_count": null,
   "metadata": {},
   "outputs": [],
   "source": []
  }
 ],
 "metadata": {
  "kernelspec": {
   "display_name": "Python 3",
   "language": "python",
   "name": "python3"
  },
  "language_info": {
   "codemirror_mode": {
    "name": "ipython",
    "version": 3
   },
   "file_extension": ".py",
   "mimetype": "text/x-python",
   "name": "python",
   "nbconvert_exporter": "python",
   "pygments_lexer": "ipython3",
   "version": "3.6.8"
  }
 },
 "nbformat": 4,
 "nbformat_minor": 2
}
