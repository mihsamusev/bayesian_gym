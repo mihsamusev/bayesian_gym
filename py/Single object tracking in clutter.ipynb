{
 "cells": [
  {
   "cell_type": "code",
   "execution_count": 1,
   "metadata": {},
   "outputs": [],
   "source": [
    "import numpy as np\n",
    "import scipy.stats as ss\n",
    "import matplotlib.pyplot as plt"
   ]
  },
  {
   "cell_type": "markdown",
   "metadata": {},
   "source": [
    "## Single object trackng problem\n",
    "Single object tracking - we know that there is a precisely 1 object\n",
    "\n",
    "- no need to infer number of objects\n",
    "- fewer data association hypotheses\n",
    "\n",
    "3 closely related challenges due to more complicated measurement model\n",
    "\n",
    "- missed detections - object detected with imperfect sensor that apart from the noise has the porbability of detection $P^D(x) \\le 1$\n",
    "- clutter detections - false detections that dont correspond to any object\n",
    "- unknown data association - at any time its unknown which of given detections (if any) is an object detection "
   ]
  },
  {
   "cell_type": "markdown",
   "metadata": {},
   "source": [
    "### Useful statistical background\n",
    "\n",
    "#### Some links\n",
    "- [good link to datacamp](https://www.datacamp.com/community/tutorials/probability-distributions-python)\n",
    "- [another good one YouTube crash course statistics](https://www.youtube.com/watch?v=WR0nMTr6uOo)\n",
    "\n",
    "#### Bernoulli distribution\n",
    "\n",
    "$p^k(p-1)^{1-k}$\n",
    "\n",
    "Probability of success or a failure of an event with 1 trial is described by follow Bernoulli distribution (heads/tails, true/false quiz, for/against vote, detection/no detection, infected/not infected zombie). Here $k \\in \\lbrace0,1\\rbrace$ Where $k = 1$ is sucess and $k = 0$ is failure.\n",
    "\n",
    "Example:"
   ]
  },
  {
   "cell_type": "code",
   "execution_count": 2,
   "metadata": {},
   "outputs": [
    {
     "name": "stdout",
     "output_type": "stream",
     "text": [
      "[0.8 0.2 0.  0. ]\n"
     ]
    },
    {
     "data": {
      "image/png": "[encoded data removed]",
      "text/plain": [
       "<Figure size 432x288 with 1 Axes>"
      ]
     },
     "metadata": {
      "needs_background": "light"
     },
     "output_type": "display_data"
    }
   ],
   "source": [
    "b = ss.bernoulli(0.2)\n",
    "x = [0, 1, 2, 3]\n",
    "p = b.pmf(x)\n",
    "print(p)\n",
    "\n",
    "# plot\n",
    "fig = plt.figure()\n",
    "ax = fig.add_axes([0,0,1,1])\n",
    "ax.bar(x,p)\n",
    "ax.set_ylabel('P[x=i]')\n",
    "ax.set_xlabel('i')\n",
    "plt.show()"
   ]
  },
  {
   "cell_type": "markdown",
   "metadata": {},
   "source": [
    "#### Binomial distribution\n",
    "\n",
    "The Bernoulli distribution is a special case of the binomial distribution where a single trial is conducted. Binomial distribution can also be understood as performing Bernoulli distribution multiple times in a row, using logical AND which corresponds to multiplication of probabilities.\n",
    "\n",
    "$\\binom{n}{k}p^k(p-1)^{n-k}$\n",
    "\n",
    "Consider having a toaster with 20% probability to hit you with electric shock when making a toast.  You eat a toast every work day. What is the probability of getting hit 1 time during the work week.\n",
    "\n",
    "Binomial formula contains 2 key parts:\n",
    "- $p^k(p-1)^{n-k}$ accounts for the probability that event happens k out of n times and does not happen the rest of the times. In our example the probability of getting 1 shock on monday and 0 shocks during the rest of the week $0.2^1 0.8^{5-1} = 8.2\\%$\n",
    "- $\\binom{n}{k}$ binomial coefficient accounts for in how many ways the specific event can happen. For our example we can get that one shock either early in the week or monday, or tuesday or any other day of the work week.  There are $n=5 \\text( choose ) k=1$ or $\\binom{5}{1} = 5$. There are 5 different ways we can receive one toaster shock during the week.\n",
    "\n",
    "$\\binom{5}{1}0.2^1 0.8^{5-1} = 41\\%$\n",
    "\n",
    "Lets look at another example. There is a 5% chance to that a person you meet on a way to a shelter is a zombie. There are 20 zombies on your way and you can only safely get to the shelter if you meet maximum 2 zombies. What is the probability of getting to the shelter."
   ]
  },
  {
   "cell_type": "code",
   "execution_count": 3,
   "metadata": {},
   "outputs": [
    {
     "name": "stdout",
     "output_type": "stream",
     "text": [
      "0.9245163262115033\n"
     ]
    }
   ],
   "source": [
    "# binomial distribution object\n",
    "b = ss.binom(20, 0.05)\n",
    "total_p = 0\n",
    "for k in range(0,3):\n",
    "    total_p += b.pmf(k)\n",
    "print(total_p)"
   ]
  },
  {
   "cell_type": "markdown",
   "metadata": {},
   "source": [
    "The expected value of the Binomial distribution is $\\mathbb{E}(x) = pn$"
   ]
  },
  {
   "cell_type": "markdown",
   "metadata": {},
   "source": [
    "### Poisson distribution\n",
    "Models number of events in a given interval (fx, but also other dimension like area). For example, the number of users visited on a website in an interval can be thought of a Poisson process. In our application its the number of clutter detections that can be modelled by Poisson. The events must be intependent as to say knowing how many clutter detections we have in time $t$ gives no information in determining how many clutter detections occur at time $t+1$. An event can occur $0,1,2,...$ times in an interval. The average number of events or event rate in an interval is designated $\\lambda > 0$. The probability of observing $k$ events in an interval is given by the equation:\n",
    "\n",
    "$$Po(X=k) = e^{-\\lambda}\\frac{\\lambda^k}{k!}$$\n",
    "\n",
    "On average student ask you 4 questions per day. Yesterday they asked 7 questions, what was the likelihood of that? In this question the event rate is $\\lambda=4$ and the amount of events is $k=7$, furthermore the time interval is 1 day.\n",
    "\n",
    "The expected value and variance is $\\lambda$"
   ]
  },
  {
   "cell_type": "markdown",
   "metadata": {},
   "source": [
    "### Measurement model\n",
    "The application of SOT requires the extension of the original measurement model used in the Bayesian filtering framework. In particular we would like to account not only for the uncertain detections, but also for missing object detections and extra detections that dont correspond to the object also known as clutter."
   ]
  },
  {
   "cell_type": "markdown",
   "metadata": {},
   "source": [
    "### Measurement model acounting for non-zero probability of misdetection\n",
    "The object is detected with probability of detection $ P^D(x)$ The probability of detection can be constant or depending on x, for example if x is predicted to be out of our sensors sight we know that probability of detection must be 0. The measurement model generates measurement from true state:\n",
    "\n",
    "$p(o_k|x_k) = g_k(o_k|x_k)$\n",
    "\n",
    "Object detection measurement is often assumed\n",
    "\n",
    "$o_k = h_k(x_k) + v_k$ where $ v_k \\backsim \\mathcal{N}(0,R_k)$ so that $ g_k(o_k|x_k) = \\mathcal{N}(o_k:h_k(x_k),R_k)$\n",
    "\n",
    "Detections are represented with a matrix, or sequence. For SOT the O_k contains at most 1 vector with measurement. The point object model assumption says that there is 0 probability of the object to generate more than 1 detection.\n",
    "$$O_k = \\begin{cases} [] &\\text{if object is undetected} \\\\ o_k &\\text{if object is detected} \\end{cases}$$\n",
    "\n",
    "Number of column vectors in $O_k$ is represented as $|O_k|$ and given $x_k$, $|O_k|$ is Bernoulli distributed (1 with $P^D$ otherwise 0):\n",
    "\n",
    "$$|O_k| = \\begin{cases} 1 &\\text{with probability }P^D(x_k) \\\\ 0 &\\text{with probability }1-P^D(x_k)\\end{cases}$$\n",
    "\n",
    "Combining two concepts above we arrive at the distribution of object measurement matrix. It captures both **the probability of detection** and if detected **the distribution of the detection**:\n",
    "$$p(O_k|x_k) = \\begin{cases} 1-P^D(x_k) &\\text{if }O_k = [] \\\\ P^D(x_k)g_k(o_k|x_k) &\\text{if } O_k = o_k \\end{cases}$$\n",
    "\n",
    "Interpretation of the first part is that the undetected measurement is equally likely to be found anywhere no matter $x_k$, so in the update step we are essentially not feeding any new information, just scaling the result of the prior (motion model) by the factor $1 - P^D(x_k)$\n",
    "\n",
    "Lets generate a few samples from that distribution. Lets assume $P^D(x_k) = 0.85$ and $g_k(o_k|x_k) = \\mathcal{N}(o_k:[3, 2]^T, 0.3\\mathbf{I})$\n",
    "    [FilterPy]() is used to plot the covariance ellipse"
   ]
  },
  {
   "cell_type": "code",
   "execution_count": 41,
   "metadata": {},
   "outputs": [
    {
     "data": {
      "application/vnd.jupyter.widget-view+json": {
       "model_id": "c62f30c511e74965b56be4cdfce02c58",
       "version_major": 2,
       "version_minor": 0
      },
      "text/plain": [
       "Button(description='Generate sample', style=ButtonStyle())"
      ]
     },
     "metadata": {},
     "output_type": "display_data"
    },
    {
     "data": {
      "application/vnd.jupyter.widget-view+json": {
       "model_id": "211e23a0a8dd4eecaf1dfa60db3e85af",
       "version_major": 2,
       "version_minor": 0
      },
      "text/plain": [
       "Output()"
      ]
     },
     "metadata": {},
     "output_type": "display_data"
    }
   ],
   "source": [
    "from numpy.random import rand\n",
    "from filterpy.stats import plot_covariance_ellipse\n",
    "\n",
    "def sample_Ok(p, gk, **kwargs):\n",
    "    '''Sample from measurement function gk\n",
    "    with probability of detection p'''\n",
    "    O_k = []\n",
    "    if rand() < p:\n",
    "        o_k = gk(**kwargs)\n",
    "        O_k.append(o_k)\n",
    "    return O_k\n",
    "\n",
    "def gk(x, P, N=1):\n",
    "    '''Produce N realizations from multivariate \n",
    "    Gaussian measurement model with mean x and \n",
    "    covariance matrix P'''\n",
    "    return np.random.multivariate_normal(x, P, N)\n",
    "\n",
    "def simulate_Ok_samples(pd, x, P):\n",
    "    o_k = sample_Ok(pd, gk, **{\"x\":x, \"P\":P})\n",
    "    print(\"o_k: \",o_k)\n",
    "    ax = plt.axes()\n",
    "  \n",
    "    plot_covariance_ellipse(x, P, fc='b',\n",
    "                        alpha=0.2, std=[1, 2, 3])\n",
    "    if o_k:\n",
    "        ax.plot(o_k[0][:,0], o_k[0][:,1], \"rs\")\n",
    "    ax.set_xlim(-2,6)\n",
    "    ax.set_ylim(-2,6)\n",
    "    ax.set_ylabel('z1 [m]')\n",
    "    ax.set_xlabel('z2 [m]')     \n",
    "    plt.show()\n",
    "# simulate\n",
    "\n",
    "\n",
    "# Create update button\n",
    "import ipywidgets as widgets\n",
    "from IPython.display import display, clear_output\n",
    "button = widgets.Button(description=\"Generate sample\")\n",
    "output = widgets.Output()\n",
    "\n",
    "def on_click_simulate(b):\n",
    "    pd = 0.85\n",
    "    x = [3, 2]\n",
    "    P = 0.3* np.eye(2)\n",
    "    with output:\n",
    "        clear_output()\n",
    "        simulate_Ok_samples(pd, x, P)\n",
    "    \n",
    "button.on_click(on_click_simulate)\n",
    "display(button, output)\n"
   ]
  },
  {
   "cell_type": "markdown",
   "metadata": {},
   "source": [
    "### Known associations\n",
    "Suppose data association is known\n",
    "Given a set of measurements $Z_k$, we know the detections $O_k$, in other words, we are tracking without clutter, so as long as we detected something it is an object\n",
    "\n",
    "How do we find posterior density $p(x_k|O_{1:k})$ in this case? We follow Bayesian filtering framework with prediction and update step. \n",
    "\n",
    "Prediction step does not change and follows Chapman-Kolmogorov equation in a general sense or Kalman filter prediction step in case of linear gaussian models.\n",
    "\n",
    "Update step follows Bayes theorem so that posterior is proportional to prior (prediction step result) times measurement likelihood. Given the measurement model extended to account for misdetections we get:\n",
    "\n",
    "$$ p(x_k|O_{1:k}) \\propto p(x_k|O_{1:k-1})p(O_k|x_k) = \\\\ =\n",
    "\\begin{cases} \n",
    "p(x_k|O_{1:k-1})(1-P^D(x_k)) &\\text{if }O_k = [] \\\\ \n",
    "p(x_k|O_{1:k-1})P^D(x_k)g_k(o_k|x_k) &\\text{if } O_k = o_k \\end{cases}$$\n",
    "\n",
    "So under the assumption that we know $O_k$ we there is a straigth forward procedure for the update step. In the case where $P^D$ is constant it can even be eliminated from the update step. Then we either carry on with the motion model olny if $O_k$ is empty or perform the update including the measurement model if $O_k$ contains the detection.\n",
    "\n",
    "Example:\n",
    "Observe the motion constant velocity model\n"
   ]
  },
  {
   "cell_type": "code",
   "execution_count": 86,
   "metadata": {},
   "outputs": [
    {
     "name": "stdout",
     "output_type": "stream",
     "text": [
      "[[ 1  2]\n",
      " [ 3  2]\n",
      " [ 5  2]\n",
      " [ 7  2]\n",
      " [ 9  2]\n",
      " [11  2]\n",
      " [13  2]\n",
      " [15  2]\n",
      " [17  2]\n",
      " [19  2]] [ 1.30049853  3.62915435  4.23672614  6.32717599         nan 11.11629545\n",
      " 13.02271389 15.18144796 17.29554649         nan]\n"
     ]
    }
   ],
   "source": [
    "from filterpy.kalman import KalmanFilter\n",
    "from filterpy.common import Saver\n",
    "kf = KalmanFilter(dim_x=2, dim_z=1)\n",
    "\n",
    "# motion model\n",
    "dt = 1.0\n",
    "kf.F[0,1] = dt\n",
    "kf.Q = 0.5 * np.array([[1/3, 1/2],[1/2, 1]])\n",
    "# initial state\n",
    "kf.x = [1, 2]\n",
    "kf.P = [[0.3, 0],[0, 1]]\n",
    "# sensor model\n",
    "kf.H = [1, 0]\n",
    "kf.R = 1\n",
    "\n",
    "def get_true_states(x0, v, N):\n",
    "    x_true = np.array([[x0, v],]*N) \n",
    "    x_true[:,0] = np.linspace(start=x0, stop=x0 + v*(N-1),num=N)\n",
    "    return x_true\n",
    "\n",
    "def get_measurements(x_true, pd):\n",
    "    x_true = np.array(x_true)\n",
    "    N = x_true.shape[0]\n",
    "    idx = rand(N) < pd\n",
    "    noise = np.random.normal(0, 1, N)\n",
    "    z = np.nan * np.ones(N)\n",
    "    z[idx] = x_true[idx, 0] + noise[idx]\n",
    "    return z\n",
    "\n",
    "x_true = get_true_states(x0=1, v=2, N=10)\n",
    "zs = get_measurements(x_true, pd=0.85)\n",
    "print(\"measurements:\",zs)\n",
    "\n",
    "s = Saver(kf)\n",
    "for z in zs:\n",
    "    kf.predict()\n",
    "    if z:\n",
    "        kf.update(z)\n",
    "    s.save()\n",
    "        \n",
    "def plot_motion():\n",
    "# plot predicted\n",
    "# plot posterior\n",
    "# plot prior\n",
    "# plot observation"
   ]
  },
  {
   "cell_type": "markdown",
   "metadata": {},
   "source": [
    "### Standard clutter model\n",
    "General term for false detection, can come from sensor noise and incorrect detections\n",
    "\n",
    "The measurement matrix that includes not only the object detections $O_k$ but also clutter detections $C_k$ is represented as follows:\n",
    "\n",
    "$$Z_k = \\Pi(O_k,C_k)$$\n",
    "\n",
    "where the operator $\\Pi$ randomly shuffles column vectors\n",
    "\n",
    "To model clutter we need a stochastic model for the number of clutter detections $|C_k|$ as well as values of $C_k$\n",
    "\n",
    "Field of view of sensor in $\\mathbb{R}^{n_z}$ of volume V. $\\lambda$ denotes expected number of clutter detections **per unit volume** (or per interval like in Poisson definition).\n",
    "\n",
    "So if considered a field of view of 2D sensor being 2x2 units with $\\lambda = 0.8$, it will give us on average $4 \\cdot 0.8 = 3.2$ clutter points.\n",
    "\n",
    "Consider a model when we split a volume into j cells corresponding to the sensor resolution, so that in one cell we can get at most 1 detection. $C_k^{(1)},...,C_k^{(j)}$ are independent and the fact of having a detection or not in each cell corresponding to $|C_k^{(i)}|$ is Bernoulli distributed:\n",
    "\n",
    "$$|C_k^{(i)}| = \n",
    "\\begin{cases}\n",
    "1 &\\text{with probability }\\frac{\\lambda V}{j} \\\\\n",
    "0 &\\text{with probability }1-\\frac{\\lambda V}{j}\n",
    "\\end{cases}\n",
    "$$\n",
    "\n",
    "Then if we have $j$ events deciding the existence of detection in a cell that are Bernoulli distributed, the total number of clutter detections $|C_k|$ in the volume is binomially distributed. The probability of getting $k$ clutter detections is thus:\n",
    "\n",
    "$$Pr(k) = \\binom{n}{k}p^k(p-1)^{n-k}$$ with total trials $n = j$ and detection probability $p = \\frac{\\lambda V}{j}$\n",
    "\n",
    "Finally, if the cell contains the clutter detection $C_k^{(i)}$, the it is uniformly distributed within that cell.\n",
    "\n",
    "What would then happen if we assume unlimited resolution and make $j$ smaller. It then follows:\n",
    "- Probability to obtain more detections (more trials in binomial distribution)\n",
    "- Probability of detection in a single cell decreases\n",
    "-The mean amount of detection does not change $\\mathbb{E(|C_k|)} = \\lambda V$ for all $j$ since the mean of binomial distribution is $pj = \\frac{\\lambda V}{j}j = \\lambda V$\n",
    "\n",
    "As the number of cells increases $j \\to \\infty$\n",
    "- $|C_k|$ is Poisson distributed\n",
    "- $C_k$ is a Poisson point process"
   ]
  },
  {
   "cell_type": "code",
   "execution_count": null,
   "metadata": {},
   "outputs": [],
   "source": [
    "# visualization of binomial converging to the Poisson\n",
    "def draw_volume(V, j):\n",
    "    pass\n",
    "def draw_distributions(lambda, V, j):\n",
    "    pass"
   ]
  },
  {
   "cell_type": "markdown",
   "metadata": {},
   "source": [
    "### Poison point process\n",
    "The Poisson point process (PPP) is standard model for clutter. The clutter matrix content is:\n",
    "\n",
    "$$C_k = [c_k^1,...,c_k^{m^c_k}]$$\n",
    "\n",
    "where the number of clutter $m^c_k$ is Poisson distributed:\n",
    "\n",
    "$$m^c_k \\backsim Po(\\lambda V)$$\n",
    "\n",
    "Given $m^c_k$ the vectors $[c_k^1,...,c_k^{m^c_k}]$ are independent and uniformly distribute accross the volume V.\n",
    "\n",
    "$$c_k^i \\backsim unif(V)$$\n",
    "\n",
    "Lets generate samples from such PPP."
   ]
  },
  {
   "cell_type": "code",
   "execution_count": 133,
   "metadata": {},
   "outputs": [
    {
     "data": {
      "application/vnd.jupyter.widget-view+json": {
       "model_id": "9a689ac639ed40118e2bdd4b0a338f9f",
       "version_major": 2,
       "version_minor": 0
      },
      "text/plain": [
       "Button(description='Generate sample', style=ButtonStyle())"
      ]
     },
     "metadata": {},
     "output_type": "display_data"
    },
    {
     "data": {
      "application/vnd.jupyter.widget-view+json": {
       "model_id": "1888fbff0d6842329a3cb45232f3af83",
       "version_major": 2,
       "version_minor": 0
      },
      "text/plain": [
       "Output()"
      ]
     },
     "metadata": {},
     "output_type": "display_data"
    }
   ],
   "source": [
    "from numpy.random import random, poisson\n",
    "def sample_ppp(lam, dx, dy):\n",
    "    Ck = []\n",
    "    mkc = poisson(lam * dx * dy)\n",
    "    for i in range(mkc):\n",
    "        ck = random(2) * np.array([dx, dy])\n",
    "        print(ck)\n",
    "        Ck.append(ck)\n",
    "    return np.array(Ck)\n",
    "        \n",
    "def sample_ppp_vectorize(lam, V, N):\n",
    "    pass\n",
    "\n",
    "def draw_samples_2d(zs, dx, dy):\n",
    "    ax = plt.axes()\n",
    "    if zs.size > 0:\n",
    "        ax.plot(zs[:,0], zs[:,1], \"rs\")\n",
    "        for i, z in enumerate(zs):\n",
    "            ax.text(z[0], z[1], f'$c_k^{{{i}}}$',\n",
    "                   fontsize=14)\n",
    "    ax.set_xlim([0, dx])\n",
    "    ax.set_ylim([0, dy])\n",
    "    ax.set_xlabel('z1 [m]')\n",
    "    ax.set_ylabel('z2 [m]') \n",
    "    plt.show()\n",
    "\n",
    "# Create update button\n",
    "import ipywidgets as widgets\n",
    "from IPython.display import display, clear_output\n",
    "button = widgets.Button(description=\"Generate sample\")\n",
    "output = widgets.Output()\n",
    "\n",
    "def on_click_simulate(b):\n",
    "    with output:\n",
    "        clear_output()\n",
    "        zs = sample_ppp(0.4, dx=2, dy=3)\n",
    "        draw_samples_2d(zs, dx=2, dy=3)\n",
    "    \n",
    "button.on_click(on_click_simulate)\n",
    "display(button, output)"
   ]
  },
  {
   "cell_type": "markdown",
   "metadata": {},
   "source": [
    "In general to parametrize clutter model one can use:\n",
    "- an intensity function $\\lambda_c(c) \\ge 0$ that helps to model expeting more or less clutter in different regions\n",
    "- combination of the rate and spatial pdf of clutter vectors:\n",
    "$$\n",
    "\\begin{cases}\n",
    "\\bar{\\lambda}_c = \\int\\lambda_c(c)dc & \\text{rate} \\\\\n",
    "f_c(c) = \\frac{\\lambda_c(c)}{\\bar{\\lambda_c}} & \\text{spatial PDF}\n",
    "\\end{cases}\n",
    "$$\n",
    "\n",
    "In the previous example we used the uniformly distributed intensity function, that is $\\lambda$ everywhere inside the field of view and 0 elsewhere:\n",
    "$$ \n",
    "\\lambda_c(c) =\n",
    "\\begin{cases}\n",
    "\\lambda & \\text{if } c \\in V \\\\\n",
    "0 & \\text{otherwise}\n",
    "\\end{cases}\n",
    "$$\n",
    "The following rate and spatial PDF correspond to such intensity function:\n",
    "$$\\bar{\\lambda}_c = \\lambda V$$\n",
    "$$ \n",
    "f_c(c) =\n",
    "\\begin{cases}\n",
    "\\frac{1}{V} & \\text{if } c \\in V \\\\\n",
    "0 & \\text{otherwise}\n",
    "\\end{cases}\n",
    "$$"
   ]
  },
  {
   "cell_type": "markdown",
   "metadata": {},
   "source": [
    "Sampling from the generalized method is very similar, except for the fact that the $c_k$ are now not necessarily uniformly distributed and need to be  sampled from the prescribed spatial PDF $f_c(c)$"
   ]
  },
  {
   "cell_type": "markdown",
   "metadata": {},
   "source": [
    "### PPP distribution\n",
    "Probability of obtaining exactly mkc vectors AND given that"
   ]
  },
  {
   "cell_type": "markdown",
   "metadata": {},
   "source": [
    "Sequence of data association hypotheses $\\theta_{1:k} = (\\theta_1,\\theta_2, ..., \\theta_k)$\n",
    "\n",
    "Hypotheses can be $\\theta_k = 0$ meaning object is not in the measurements, $\\theta_k = 1$ meaning measurement 1 is the object $\\theta_k = k$ measurement k is the object\n",
    "\n",
    "Posterior includes contribution from all hypotheses, thus the likelihood function $p(x|Z)$ is a mixture of $m_k+1$ components since we get one component for each $\\theta_k \\in \\lbrace0,1,..,m_k\\rbrace$\n",
    "$$p(x_k|Z_k) = \\sum_{\\theta_k}p(x|\\theta_k,Z_k)Pr(\\theta_k|Z_k)$$\n",
    "\n",
    "For $\\theta = 0$ the contribution to posterior probability is proportional to the prior"
   ]
  },
  {
   "cell_type": "markdown",
   "metadata": {},
   "source": [
    "### Complete measurement model\n",
    "\n",
    "Number of detections $ m_k$\n",
    "\n",
    "$$\n",
    "p(Z|x) =\n",
    "\\sum_{\\theta=0}^{m}p(Z,m,\\theta|x) = \\\\ =\n",
    "(1-P^D(x))\\frac{exp(-\\bar{\\lambda}_c)}{m!}\\prod_{i=1}^{m}\\lambda_{c}(z^i) +\n",
    "\\sum_{\\theta=1}^{m}P^D(x)\\frac{g_{k}(z^{\\theta}|x)}{\\lambda_{c}(z^{\\theta})}\n",
    "\\frac{exp(-\\bar{\\lambda}_c)}{m!}\\prod_{i=1}^{m}\\lambda_{c}(z^i) \\\\ =\n",
    "\\lbrack\n",
    "(1 - P^D(x)) + \\sum_{\\theta=1}^{m}P^D(x)\\frac{g_{k}(z^{\\theta}|x)}{\\lambda_{c}(z^{\\theta})}\n",
    "\\rbrack\n",
    "\\frac{exp(-\\bar{\\lambda}_c)}{m!}\\prod_{i=1}^{m}\\lambda_{c}(z^i)\n",
    "$$\n",
    "\n",
    "If the probability of detection is lower than 1.0 the likelihood function $p(Z|x)$ is a mixture of $m_k+1$ components since we get one component for each $\\theta_k \\in \\lbrace0,1,..,m_k\\rbrace$"
   ]
  },
  {
   "cell_type": "markdown",
   "metadata": {},
   "source": [
    "At time k number of possible association **hypotheses** is $(m_k + 1)$\n",
    "\n",
    "At time k number of possible association **sequences** is a combination of all association hypotheses which is $ \\prod_{i=1}^k(m_i + 1)$"
   ]
  },
  {
   "cell_type": "markdown",
   "metadata": {},
   "source": [
    "#### Complete SOT model example\n",
    "Object likelihood $g_k(o_k|x_k)$ could be for example Gaussian $\\mathcal{N}(o_k:x_k,0.2)$\n",
    "\n",
    "Clutter intensity in region bound by $c_{max}$ (range or area for 1d and 2d respectively) \n",
    "\n",
    "$$\\lambda(c) = \\begin{cases} 0.4 &\\text{if }|x| \\le c_{max} \\\\ 0 &\\text{otherwise} \\end{cases}$$\n",
    "\n",
    "Sequence of measurements $Z_{1:k} = (Z_1, Z_2, ..., Z_k)$ for example, a sequence of 3 measurements could be $Z_1 = [-1.3, 1.7]$, $Z_2 = [1.3]$ and $Z_3 =[-0.3, 2.3]$"
   ]
  },
  {
   "cell_type": "markdown",
   "metadata": {},
   "source": [
    "### Update step"
   ]
  },
  {
   "cell_type": "markdown",
   "metadata": {},
   "source": [
    "### Prediction step"
   ]
  },
  {
   "cell_type": "code",
   "execution_count": null,
   "metadata": {},
   "outputs": [],
   "source": [
    "def draw_path():\n",
    "    pass\n",
    "def draw_prior():\n",
    "    pass\n",
    "def draw_posterior():\n",
    "    pass"
   ]
  },
  {
   "cell_type": "code",
   "execution_count": null,
   "metadata": {},
   "outputs": [],
   "source": []
  },
  {
   "cell_type": "code",
   "execution_count": null,
   "metadata": {},
   "outputs": [],
   "source": []
  },
  {
   "cell_type": "code",
   "execution_count": null,
   "metadata": {},
   "outputs": [],
   "source": []
  }
 ],
 "metadata": {
  "kernelspec": {
   "display_name": "Python 3",
   "language": "python",
   "name": "python3"
  },
  "language_info": {
   "codemirror_mode": {
    "name": "ipython",
    "version": 3
   },
   "file_extension": ".py",
   "mimetype": "text/x-python",
   "name": "python",
   "nbconvert_exporter": "python",
   "pygments_lexer": "ipython3",
   "version": "3.6.8"
  }
 },
 "nbformat": 4,
 "nbformat_minor": 2
}
